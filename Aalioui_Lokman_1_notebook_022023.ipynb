{
 "cells": [
  {
   "attachments": {},
   "cell_type": "markdown",
   "metadata": {},
   "source": [
    "#  Librairie Lapage : Analyse des ventes de notre site internet \n",
    "***\n",
    "Devant le succès grandissant de nos différentes librairies physiques, nous avons décidé de lancer un site de vente en ligne. Nous nous proposons de faire un bilan de ces 2 années de présence sur internet. Pour cela nous allons d'abord faire un travail préliminaire à travers une exploration des données dont nous disposons afin de les préparer à être exploiter. Par la suite nous nous attarderons sur une analyse très complète de notre chiffre d'affaires sous plusieurs prismes. Pour finir nous irons plus loin dans notre analyse en étudiant les éventuelles corrélations présentes entre les variables de notre jeu de données. \n",
    "\n"
   ]
  },
  {
   "attachments": {},
   "cell_type": "markdown",
   "metadata": {},
   "source": [
    "\n",
    "####  <font color='deepskyblue'> A) Observation des données </a> </font>\n",
    "- <font color='skyblue'> 1) Observation du fichier \"products\" </font>\n",
    "- <font color='skyblue'> 2) Observation du fichier \"transactions\" </font>\n",
    "- <font color='skyblue'> 3) Observation du fichier \"customers\" </font>\n",
    "#### <font color='deepskyblue'>B) Préparation des données</a></font>\n",
    "- <font color='skyblue'> 1) Traitement des données de test </font>\n",
    "- <font color='skyblue'> 2) Traitement des dates </font>\n",
    "- <font color='skyblue'> 3) Traitement des types </font>\n",
    "- <font color='skyblue'> 4) Première jointure </font>\n",
    "- <font color='skyblue'> 5) Seconde jointure </font>\n",
    "- <font color='skyblue'> 6) Conclusion </font>\n",
    "#### <font color='deepskyblue'>C) Analyse univariée</a></font>\n",
    "#### Nos produits</a>\n",
    "- <font color='skyblue'> 1) Distribution des prix </font>\n",
    "- <font color='skyblue'> 2) Prix par catégorie</font>\n",
    "- <font color='skyblue'> 3) Produits par catégorie </font>\n",
    "#### Nos clients</a>\n",
    "- <font color='skyblue'> 1) Distribution par sexe </font>\n",
    "- <font color='skyblue'> 2) Distribution par âge </font>\n",
    "- <font color='skyblue'> 3) Création de tranches d'âge </font>\n",
    "#### <font color='deepskyblue'>D) Analyse du chiffre d'affaires</a></font>\n",
    "#### Notre chiffre d'affaires global</a>\n",
    "- <font color='skyblue'> 1) Chiffre d'affaires </font>\n",
    "- <font color='skyblue'> 2) Evolution du chiffre d'affaires </font>\n",
    "#### Notre chiffre d'affaires par produit</a>\n",
    "- <font color='skyblue'> 1) Inégalités des ventes entre les produits </font>\n",
    "- <font color='skyblue'> 2) Inégalités de chiffre d'affaires entre les produits </font>\n",
    "- <font color='skyblue'> 3) Nos ventes par catégorie de produit </font>\n",
    "- <font color='skyblue'> 4) Notre chiffre d'affaires par catégorie de produit </font>\n",
    "#### Notre chiffre d'affaires par client</a>\n",
    "- <font color='skyblue'> 1) Classement de nos clients par chiffre d'affaires </font>\n",
    "- <font color='skyblue'> 2) Inégalité de chiffre d'affaires par client </font>\n",
    "#### Zoom sur nos clients professionnels</a>\n",
    "- <font color='skyblue'> 1) Poids de nos clients professionnels sur le chiffre d'affaires</font>\n",
    "- <font color='skyblue'> 2) Analyse des achats de nos clients professionnels</font>\n",
    "- <font color='skyblue'> 3) Evolution dans le temps des achats de nos clients professionnels</font>\n",
    "#### Zoom sur nos clients particuliers</a>\n",
    "- <font color='skyblue'> 1) Notre chiffre d'affaires selon le sexe </font>\n",
    "- <font color='skyblue'> 2) Notre chiffre d'affaires selon l'âge </font>\n",
    "- <font color='skyblue'> 4) Les habitudes de consommation de nos clients </font>\n",
    "#### <font color='deepskyblue'>E) Analyse multivariée </a></font>\n",
    "- <font color='skyblue'> 1) Corrélation entre le sexe des clients et la gamme de produits achetée </font>\n",
    "- <font color='skyblue'> 2) Corrélation entre la tranche d'âge des clients et la gamme de produits achetée</font>\n",
    "- <font color='skyblue'> 3) Corrélation entre l'âge des clients et la gamme de produits achetée</font>\n",
    "- <font color='skyblue'> 4) Corrélation entre l'âge des clients et le panier moyen </font>\n",
    "- <font color='skyblue'> 5) Corrélation entre l'âge des clients et la fréquence d'achat </font>\n",
    "- <font color='skyblue'> 6) Corrélation entre l'âge des clients et le montant total des achats </font>\n",
    "- <font color='skyblue'> 7) Corrélation entre le chiffre d'affaires et le sexe </font>\n",
    "\n",
    "#### <font color='deepskyblue'>F) Conclusion synthétique </a></font>\n",
    "***\n"
   ]
  },
  {
   "attachments": {},
   "cell_type": "markdown",
   "metadata": {},
   "source": [
    "# <a name=\"C4\"> A) Observation des données </a>\n",
    "***\n",
    "\n",
    "   "
   ]
  },
  {
   "attachments": {},
   "cell_type": "markdown",
   "metadata": {},
   "source": [
    "### Importation des librairies et des données\n"
   ]
  },
  {
   "attachments": {},
   "cell_type": "markdown",
   "metadata": {},
   "source": [
    "Les librairies que nous utiliserons sont les suivantes :\n",
    "   - Numpy pour les tableaux et les opérations  \n",
    "   - Pandas pour la manipulation des données\n",
    "   - Matplotlib pour tracer des representations graphiques\n",
    "   - Seaborn pour améliorer les graphiques\n",
    "\n",
    "Les fichiers de données à notre disposition sont les suivants :\n",
    "   - **customers.csv** \n",
    "   - **products.csv** \n",
    "   - **transactions.csv** "
   ]
  },
  {
   "cell_type": "code",
   "execution_count": 1,
   "metadata": {},
   "outputs": [
    {
     "ename": "FileNotFoundError",
     "evalue": "[Errno 2] No such file or directory: 'customers.csv'",
     "output_type": "error",
     "traceback": [
      "\u001b[1;31m---------------------------------------------------------------------------\u001b[0m",
      "\u001b[1;31mFileNotFoundError\u001b[0m                         Traceback (most recent call last)",
      "Cell \u001b[1;32mIn[1], line 10\u001b[0m\n\u001b[0;32m      7\u001b[0m \u001b[39mfrom\u001b[39;00m \u001b[39msklearn\u001b[39;00m \u001b[39mimport\u001b[39;00m ensemble\n\u001b[0;32m      8\u001b[0m \u001b[39mimport\u001b[39;00m \u001b[39mscipy\u001b[39;00m\u001b[39m.\u001b[39;00m\u001b[39mstats\u001b[39;00m \u001b[39mas\u001b[39;00m \u001b[39mstats\u001b[39;00m\n\u001b[1;32m---> 10\u001b[0m customers \u001b[39m=\u001b[39mpd\u001b[39m.\u001b[39;49mread_csv(\u001b[39m'\u001b[39;49m\u001b[39mcustomers.csv\u001b[39;49m\u001b[39m'\u001b[39;49m)\n\u001b[0;32m     11\u001b[0m products\u001b[39m=\u001b[39mpd\u001b[39m.\u001b[39mread_csv(\u001b[39m'\u001b[39m\u001b[39mproducts.csv\u001b[39m\u001b[39m'\u001b[39m)\n\u001b[0;32m     12\u001b[0m transactions\u001b[39m=\u001b[39mpd\u001b[39m.\u001b[39mread_csv(\u001b[39m'\u001b[39m\u001b[39mtransactions.csv\u001b[39m\u001b[39m'\u001b[39m)\n",
      "File \u001b[1;32mc:\\Users\\lokma\\anaconda3\\lib\\site-packages\\pandas\\util\\_decorators.py:211\u001b[0m, in \u001b[0;36mdeprecate_kwarg.<locals>._deprecate_kwarg.<locals>.wrapper\u001b[1;34m(*args, **kwargs)\u001b[0m\n\u001b[0;32m    209\u001b[0m     \u001b[39melse\u001b[39;00m:\n\u001b[0;32m    210\u001b[0m         kwargs[new_arg_name] \u001b[39m=\u001b[39m new_arg_value\n\u001b[1;32m--> 211\u001b[0m \u001b[39mreturn\u001b[39;00m func(\u001b[39m*\u001b[39margs, \u001b[39m*\u001b[39m\u001b[39m*\u001b[39mkwargs)\n",
      "File \u001b[1;32mc:\\Users\\lokma\\anaconda3\\lib\\site-packages\\pandas\\util\\_decorators.py:331\u001b[0m, in \u001b[0;36mdeprecate_nonkeyword_arguments.<locals>.decorate.<locals>.wrapper\u001b[1;34m(*args, **kwargs)\u001b[0m\n\u001b[0;32m    325\u001b[0m \u001b[39mif\u001b[39;00m \u001b[39mlen\u001b[39m(args) \u001b[39m>\u001b[39m num_allow_args:\n\u001b[0;32m    326\u001b[0m     warnings\u001b[39m.\u001b[39mwarn(\n\u001b[0;32m    327\u001b[0m         msg\u001b[39m.\u001b[39mformat(arguments\u001b[39m=\u001b[39m_format_argument_list(allow_args)),\n\u001b[0;32m    328\u001b[0m         \u001b[39mFutureWarning\u001b[39;00m,\n\u001b[0;32m    329\u001b[0m         stacklevel\u001b[39m=\u001b[39mfind_stack_level(),\n\u001b[0;32m    330\u001b[0m     )\n\u001b[1;32m--> 331\u001b[0m \u001b[39mreturn\u001b[39;00m func(\u001b[39m*\u001b[39margs, \u001b[39m*\u001b[39m\u001b[39m*\u001b[39mkwargs)\n",
      "File \u001b[1;32mc:\\Users\\lokma\\anaconda3\\lib\\site-packages\\pandas\\io\\parsers\\readers.py:950\u001b[0m, in \u001b[0;36mread_csv\u001b[1;34m(filepath_or_buffer, sep, delimiter, header, names, index_col, usecols, squeeze, prefix, mangle_dupe_cols, dtype, engine, converters, true_values, false_values, skipinitialspace, skiprows, skipfooter, nrows, na_values, keep_default_na, na_filter, verbose, skip_blank_lines, parse_dates, infer_datetime_format, keep_date_col, date_parser, dayfirst, cache_dates, iterator, chunksize, compression, thousands, decimal, lineterminator, quotechar, quoting, doublequote, escapechar, comment, encoding, encoding_errors, dialect, error_bad_lines, warn_bad_lines, on_bad_lines, delim_whitespace, low_memory, memory_map, float_precision, storage_options)\u001b[0m\n\u001b[0;32m    935\u001b[0m kwds_defaults \u001b[39m=\u001b[39m _refine_defaults_read(\n\u001b[0;32m    936\u001b[0m     dialect,\n\u001b[0;32m    937\u001b[0m     delimiter,\n\u001b[1;32m   (...)\u001b[0m\n\u001b[0;32m    946\u001b[0m     defaults\u001b[39m=\u001b[39m{\u001b[39m\"\u001b[39m\u001b[39mdelimiter\u001b[39m\u001b[39m\"\u001b[39m: \u001b[39m\"\u001b[39m\u001b[39m,\u001b[39m\u001b[39m\"\u001b[39m},\n\u001b[0;32m    947\u001b[0m )\n\u001b[0;32m    948\u001b[0m kwds\u001b[39m.\u001b[39mupdate(kwds_defaults)\n\u001b[1;32m--> 950\u001b[0m \u001b[39mreturn\u001b[39;00m _read(filepath_or_buffer, kwds)\n",
      "File \u001b[1;32mc:\\Users\\lokma\\anaconda3\\lib\\site-packages\\pandas\\io\\parsers\\readers.py:605\u001b[0m, in \u001b[0;36m_read\u001b[1;34m(filepath_or_buffer, kwds)\u001b[0m\n\u001b[0;32m    602\u001b[0m _validate_names(kwds\u001b[39m.\u001b[39mget(\u001b[39m\"\u001b[39m\u001b[39mnames\u001b[39m\u001b[39m\"\u001b[39m, \u001b[39mNone\u001b[39;00m))\n\u001b[0;32m    604\u001b[0m \u001b[39m# Create the parser.\u001b[39;00m\n\u001b[1;32m--> 605\u001b[0m parser \u001b[39m=\u001b[39m TextFileReader(filepath_or_buffer, \u001b[39m*\u001b[39m\u001b[39m*\u001b[39mkwds)\n\u001b[0;32m    607\u001b[0m \u001b[39mif\u001b[39;00m chunksize \u001b[39mor\u001b[39;00m iterator:\n\u001b[0;32m    608\u001b[0m     \u001b[39mreturn\u001b[39;00m parser\n",
      "File \u001b[1;32mc:\\Users\\lokma\\anaconda3\\lib\\site-packages\\pandas\\io\\parsers\\readers.py:1442\u001b[0m, in \u001b[0;36mTextFileReader.__init__\u001b[1;34m(self, f, engine, **kwds)\u001b[0m\n\u001b[0;32m   1439\u001b[0m     \u001b[39mself\u001b[39m\u001b[39m.\u001b[39moptions[\u001b[39m\"\u001b[39m\u001b[39mhas_index_names\u001b[39m\u001b[39m\"\u001b[39m] \u001b[39m=\u001b[39m kwds[\u001b[39m\"\u001b[39m\u001b[39mhas_index_names\u001b[39m\u001b[39m\"\u001b[39m]\n\u001b[0;32m   1441\u001b[0m \u001b[39mself\u001b[39m\u001b[39m.\u001b[39mhandles: IOHandles \u001b[39m|\u001b[39m \u001b[39mNone\u001b[39;00m \u001b[39m=\u001b[39m \u001b[39mNone\u001b[39;00m\n\u001b[1;32m-> 1442\u001b[0m \u001b[39mself\u001b[39m\u001b[39m.\u001b[39m_engine \u001b[39m=\u001b[39m \u001b[39mself\u001b[39;49m\u001b[39m.\u001b[39;49m_make_engine(f, \u001b[39mself\u001b[39;49m\u001b[39m.\u001b[39;49mengine)\n",
      "File \u001b[1;32mc:\\Users\\lokma\\anaconda3\\lib\\site-packages\\pandas\\io\\parsers\\readers.py:1735\u001b[0m, in \u001b[0;36mTextFileReader._make_engine\u001b[1;34m(self, f, engine)\u001b[0m\n\u001b[0;32m   1733\u001b[0m     \u001b[39mif\u001b[39;00m \u001b[39m\"\u001b[39m\u001b[39mb\u001b[39m\u001b[39m\"\u001b[39m \u001b[39mnot\u001b[39;00m \u001b[39min\u001b[39;00m mode:\n\u001b[0;32m   1734\u001b[0m         mode \u001b[39m+\u001b[39m\u001b[39m=\u001b[39m \u001b[39m\"\u001b[39m\u001b[39mb\u001b[39m\u001b[39m\"\u001b[39m\n\u001b[1;32m-> 1735\u001b[0m \u001b[39mself\u001b[39m\u001b[39m.\u001b[39mhandles \u001b[39m=\u001b[39m get_handle(\n\u001b[0;32m   1736\u001b[0m     f,\n\u001b[0;32m   1737\u001b[0m     mode,\n\u001b[0;32m   1738\u001b[0m     encoding\u001b[39m=\u001b[39;49m\u001b[39mself\u001b[39;49m\u001b[39m.\u001b[39;49moptions\u001b[39m.\u001b[39;49mget(\u001b[39m\"\u001b[39;49m\u001b[39mencoding\u001b[39;49m\u001b[39m\"\u001b[39;49m, \u001b[39mNone\u001b[39;49;00m),\n\u001b[0;32m   1739\u001b[0m     compression\u001b[39m=\u001b[39;49m\u001b[39mself\u001b[39;49m\u001b[39m.\u001b[39;49moptions\u001b[39m.\u001b[39;49mget(\u001b[39m\"\u001b[39;49m\u001b[39mcompression\u001b[39;49m\u001b[39m\"\u001b[39;49m, \u001b[39mNone\u001b[39;49;00m),\n\u001b[0;32m   1740\u001b[0m     memory_map\u001b[39m=\u001b[39;49m\u001b[39mself\u001b[39;49m\u001b[39m.\u001b[39;49moptions\u001b[39m.\u001b[39;49mget(\u001b[39m\"\u001b[39;49m\u001b[39mmemory_map\u001b[39;49m\u001b[39m\"\u001b[39;49m, \u001b[39mFalse\u001b[39;49;00m),\n\u001b[0;32m   1741\u001b[0m     is_text\u001b[39m=\u001b[39;49mis_text,\n\u001b[0;32m   1742\u001b[0m     errors\u001b[39m=\u001b[39;49m\u001b[39mself\u001b[39;49m\u001b[39m.\u001b[39;49moptions\u001b[39m.\u001b[39;49mget(\u001b[39m\"\u001b[39;49m\u001b[39mencoding_errors\u001b[39;49m\u001b[39m\"\u001b[39;49m, \u001b[39m\"\u001b[39;49m\u001b[39mstrict\u001b[39;49m\u001b[39m\"\u001b[39;49m),\n\u001b[0;32m   1743\u001b[0m     storage_options\u001b[39m=\u001b[39;49m\u001b[39mself\u001b[39;49m\u001b[39m.\u001b[39;49moptions\u001b[39m.\u001b[39;49mget(\u001b[39m\"\u001b[39;49m\u001b[39mstorage_options\u001b[39;49m\u001b[39m\"\u001b[39;49m, \u001b[39mNone\u001b[39;49;00m),\n\u001b[0;32m   1744\u001b[0m )\n\u001b[0;32m   1745\u001b[0m \u001b[39massert\u001b[39;00m \u001b[39mself\u001b[39m\u001b[39m.\u001b[39mhandles \u001b[39mis\u001b[39;00m \u001b[39mnot\u001b[39;00m \u001b[39mNone\u001b[39;00m\n\u001b[0;32m   1746\u001b[0m f \u001b[39m=\u001b[39m \u001b[39mself\u001b[39m\u001b[39m.\u001b[39mhandles\u001b[39m.\u001b[39mhandle\n",
      "File \u001b[1;32mc:\\Users\\lokma\\anaconda3\\lib\\site-packages\\pandas\\io\\common.py:856\u001b[0m, in \u001b[0;36mget_handle\u001b[1;34m(path_or_buf, mode, encoding, compression, memory_map, is_text, errors, storage_options)\u001b[0m\n\u001b[0;32m    851\u001b[0m \u001b[39melif\u001b[39;00m \u001b[39misinstance\u001b[39m(handle, \u001b[39mstr\u001b[39m):\n\u001b[0;32m    852\u001b[0m     \u001b[39m# Check whether the filename is to be opened in binary mode.\u001b[39;00m\n\u001b[0;32m    853\u001b[0m     \u001b[39m# Binary mode does not support 'encoding' and 'newline'.\u001b[39;00m\n\u001b[0;32m    854\u001b[0m     \u001b[39mif\u001b[39;00m ioargs\u001b[39m.\u001b[39mencoding \u001b[39mand\u001b[39;00m \u001b[39m\"\u001b[39m\u001b[39mb\u001b[39m\u001b[39m\"\u001b[39m \u001b[39mnot\u001b[39;00m \u001b[39min\u001b[39;00m ioargs\u001b[39m.\u001b[39mmode:\n\u001b[0;32m    855\u001b[0m         \u001b[39m# Encoding\u001b[39;00m\n\u001b[1;32m--> 856\u001b[0m         handle \u001b[39m=\u001b[39m \u001b[39mopen\u001b[39;49m(\n\u001b[0;32m    857\u001b[0m             handle,\n\u001b[0;32m    858\u001b[0m             ioargs\u001b[39m.\u001b[39;49mmode,\n\u001b[0;32m    859\u001b[0m             encoding\u001b[39m=\u001b[39;49mioargs\u001b[39m.\u001b[39;49mencoding,\n\u001b[0;32m    860\u001b[0m             errors\u001b[39m=\u001b[39;49merrors,\n\u001b[0;32m    861\u001b[0m             newline\u001b[39m=\u001b[39;49m\u001b[39m\"\u001b[39;49m\u001b[39m\"\u001b[39;49m,\n\u001b[0;32m    862\u001b[0m         )\n\u001b[0;32m    863\u001b[0m     \u001b[39melse\u001b[39;00m:\n\u001b[0;32m    864\u001b[0m         \u001b[39m# Binary mode\u001b[39;00m\n\u001b[0;32m    865\u001b[0m         handle \u001b[39m=\u001b[39m \u001b[39mopen\u001b[39m(handle, ioargs\u001b[39m.\u001b[39mmode)\n",
      "\u001b[1;31mFileNotFoundError\u001b[0m: [Errno 2] No such file or directory: 'customers.csv'"
     ]
    }
   ],
   "source": [
    "import pandas as pd\n",
    "import numpy as np\n",
    "import matplotlib.pyplot as plt\n",
    "import seaborn as sns\n",
    "import datetime as dt\n",
    "import sklearn as sk\n",
    "from sklearn import ensemble\n",
    "import scipy.stats as stats\n",
    "\n",
    "customers =pd.read_csv('customers.csv')\n",
    "products=pd.read_csv('products.csv')\n",
    "transactions=pd.read_csv('transactions.csv')"
   ]
  },
  {
   "attachments": {},
   "cell_type": "markdown",
   "metadata": {},
   "source": [
    "\n",
    "### Fonctions utiles\n"
   ]
  },
  {
   "attachments": {},
   "cell_type": "markdown",
   "metadata": {},
   "source": [
    "Avant de préparer nos données, nous devons obtenir une description exacte de ces dernières :\n",
    "   - le nombre de lignes et de colonnes de chaque jeu de données\n",
    "   - un dénombrage des valeurs totales et uniques\n",
    "   - le type de chaque colonne\n",
    "   - un dénombrage des valeurs nulles\n",
    "   - un dénombrage des valeurs aberrantes\n",
    "\n",
    "Pour cela, nous créons une fonction qui retourne un tableau comprenant toutes les informations dont nous avons besoin :"
   ]
  },
  {
   "cell_type": "code",
   "execution_count": null,
   "metadata": {},
   "outputs": [],
   "source": [
    "def info_donnee(df: pd.DataFrame):\n",
    "    desc = df.columns.to_frame(name=\"colonne\").set_index('colonne')\n",
    "    desc['nombre de valeurs non nulles'] = df.notnull().sum() \n",
    "    desc['nombre de valeurs uniques'] = df.nunique() \n",
    "    desc['type de donnée'] = df.dtypes \n",
    "    desc['nombre de valeurs nulles']=df.isna().sum()\n",
    "    desc['pourcentage de valeurs nulles']=round((df.isna().sum()/df.shape[0]*100),2)\n",
    "    return desc"
   ]
  },
  {
   "attachments": {},
   "cell_type": "markdown",
   "metadata": {},
   "source": [
    "### <font color='skyblue'> 1) Observation du fichier \"products\" </font>\n"
   ]
  },
  {
   "attachments": {},
   "cell_type": "markdown",
   "metadata": {},
   "source": [
    "Le fichier \"products\" inclut les données sur les produits comméercialisés sur notre site inernet. Il est composé d'une référence produit, d'un prix, ainsi que d'une catégorie de produit. "
   ]
  },
  {
   "cell_type": "code",
   "execution_count": null,
   "metadata": {},
   "outputs": [],
   "source": [
    "# Nous utilisons d'abord la fonction définie plus haut pour faire une observation quantitative de nos données\n",
    "info_donnee(products)"
   ]
  },
  {
   "cell_type": "code",
   "execution_count": null,
   "metadata": {},
   "outputs": [],
   "source": [
    "# Nous faisons ensuite une observation qualitative de nos données\n",
    "products.describe()"
   ]
  },
  {
   "cell_type": "code",
   "execution_count": null,
   "metadata": {},
   "outputs": [],
   "source": [
    "# Nous recherchons d'autres valeurs négatives\n",
    "products.sort_values('price').head()"
   ]
  },
  {
   "attachments": {},
   "cell_type": "markdown",
   "metadata": {},
   "source": [
    "Nous Constatons que la variable \"id_prod\" contient 3287 valeurs uniques pour 3287 lignes, il s'agit d'une clé primaire pertinente. Les prix sont classés en 3 catégories, le prix le plus élevé est 300.\n",
    "En observant les prix nous avons repéré une valeur négative impossible pour un prix. Il s'agit de la seule valeur négative du jeu de donnée. Cette valeur se rapporte au produit \"T_0\" qui appartient à la catégorie \"0\". Nous allons poursuivre nos observations autour de ce produit."
   ]
  },
  {
   "attachments": {},
   "cell_type": "markdown",
   "metadata": {},
   "source": [
    "### <font color='skyblue'> 2) Observation du fichier \"transactions\" </font>\n"
   ]
  },
  {
   "attachments": {},
   "cell_type": "markdown",
   "metadata": {},
   "source": [
    "Le fichier \"transactions\" inclut les données de toutes les transactions réalisée sur notre site internet. Il servira de lien entre nos fichiers. Il est composé de lignes contenant une date de transaction, ainsi que l'identifiant du client, du produit et celui de la session."
   ]
  },
  {
   "cell_type": "code",
   "execution_count": null,
   "metadata": {},
   "outputs": [],
   "source": [
    "# Nous utilisons d'abord la fonction définie plus haut pour faire une observation quantitative de nos données\n",
    "info_donnee(transactions)"
   ]
  },
  {
   "cell_type": "code",
   "execution_count": null,
   "metadata": {},
   "outputs": [],
   "source": [
    "# Nous visualisons les transaction correspondant au produit \"T_0\" que nous avons repéré comme étant aberrant\n",
    "test = transactions.loc[transactions['id_prod'] == 'T_0']\n",
    "test"
   ]
  },
  {
   "cell_type": "code",
   "execution_count": null,
   "metadata": {},
   "outputs": [],
   "source": [
    "# Nous faisons ensuite une observation qualitative de nos données\n",
    "test.describe()\n"
   ]
  },
  {
   "attachments": {},
   "cell_type": "markdown",
   "metadata": {},
   "source": [
    "En enquétant sur le produit \"T_0\", nous observons 200 lignes correspondant visiblement à des lignes de test. Il s'agit certainement de tests de transaction ayant été réalisés lors de la mise en route du site. Ces lignes correspondent toutes à la même session de transaction \"s_0\", et aux mêmes clients \"ct_0\" et \"ct_1\" qui sont supposemment fictifs.\n",
    "Nous allons poursuivre nos observations autour de ces clients."
   ]
  },
  {
   "attachments": {},
   "cell_type": "markdown",
   "metadata": {},
   "source": [
    "### <font color='skyblue'> 3) Observation du fichier \"customers\" </font>\n"
   ]
  },
  {
   "attachments": {},
   "cell_type": "markdown",
   "metadata": {},
   "source": [
    "Le fichier \"customers\" inclut les données sur les clients de notre site inernet. Il est composé d'un identifiant client, du sexe de ce dernier, ainsi que de sa date de naissance. "
   ]
  },
  {
   "cell_type": "code",
   "execution_count": null,
   "metadata": {},
   "outputs": [],
   "source": [
    "# Nous utilisons d'abord la fonction définie plus haut pour faire une observation quantitative de nos données\n",
    "info_donnee(customers)"
   ]
  },
  {
   "cell_type": "code",
   "execution_count": null,
   "metadata": {},
   "outputs": [],
   "source": [
    "# Nous faisons ensuite une observation qualitative de nos données\n",
    "customers.describe()"
   ]
  },
  {
   "attachments": {},
   "cell_type": "markdown",
   "metadata": {},
   "source": [
    "Nous Constatons que la variable \"client_id\" contient 8623 valeurs uniques pour 8623 lignes, il s'agit d'une clé primaire pertinente.\n",
    "Les clients dans ce fichier sont nés entre 1929 et 2004, et il y a bien 2 genres dans la colonne \"sex\". Il n'y a pas de valeurs aberrantes de prime abord. \n"
   ]
  },
  {
   "cell_type": "markdown",
   "metadata": {},
   "source": []
  },
  {
   "attachments": {},
   "cell_type": "markdown",
   "metadata": {},
   "source": [
    "# <a name=\"C4\"> B) Préparation des données</a>\n",
    "***\n",
    "\n",
    "\n"
   ]
  },
  {
   "attachments": {},
   "cell_type": "markdown",
   "metadata": {},
   "source": [
    "Nous allons réaliser les différentes opérations suivantes pour préparer notre jeu de données à la jointure :\n",
    "- Traiter les données de test observées plus haut\n",
    "- Corriger le format des date et ajout de l'âge\n",
    "- Réaliser la jointure des fichier en s'assurant de la correspondance des clé"
   ]
  },
  {
   "attachments": {},
   "cell_type": "markdown",
   "metadata": {},
   "source": [
    "### <font color='skyblue'> 1) Traitement des données de test </font>\n",
    "\n"
   ]
  },
  {
   "attachments": {},
   "cell_type": "markdown",
   "metadata": {},
   "source": [
    "Nous partons du principe que les lignes correspondant aux tests peuvent être retirées pour notre analyse, nous procedons comme suit :\n",
    "\n",
    "\n",
    "- Pour le fichier \"customers\", nous allons extraire les clients fictifs créés pour les tests \"ct_0\" et \"ct_1\".  \n",
    "- Pour le fichier \"products\", nous allons extraire le produit \"T_0\" qui affiche un prix négatif.\n",
    "- Pour le fichier \"transactions\", nous allons extraire les 200 lignes de tests, elles se référent toutes à la session \"s_0\".\n"
   ]
  },
  {
   "cell_type": "code",
   "execution_count": null,
   "metadata": {},
   "outputs": [],
   "source": [
    "# Suppression des clients test ct_1 et ct_0 \n",
    "customers.drop(customers[(customers[\"client_id\"] == \"ct_0\")].index, inplace=True)\n",
    "customers.drop(customers[(customers[\"client_id\"] == \"ct_1\")].index, inplace=True)\n",
    "\n",
    "# Suppression de la ligne contenant le prix négatif\n",
    "products.drop(products[(products[\"id_prod\"] == \"T_0\")].index, inplace=True)\n",
    "\n",
    "# Suppression des 200 transactions de test\n",
    "transactions.drop(transactions[(transactions[\"session_id\"] == \"s_0\")].index, inplace=True)"
   ]
  },
  {
   "attachments": {},
   "cell_type": "markdown",
   "metadata": {},
   "source": [
    "### <font color='skyblue'> 2) Traitement des dates </font>\n"
   ]
  },
  {
   "attachments": {},
   "cell_type": "markdown",
   "metadata": {},
   "source": [
    "Nous allons ajouter une colonnes qui facilitera nos analyses comme suit : \n",
    "\n",
    "- Pour le fichier \"customers\", nous allons créer une colonne âge qui sera plus parlante qu'une année de naissance"
   ]
  },
  {
   "cell_type": "code",
   "execution_count": null,
   "metadata": {},
   "outputs": [],
   "source": [
    "# Nous déclarons la date courante afin d'en extraire l'année courante\n",
    "datecourante = dt.datetime.now()\n",
    "date = datecourante.date()\n",
    "year = int(date.strftime(\"%Y\"))\n",
    "\n",
    "# Nous créons une colonne \"age\" contenant l'âge des clients \n",
    "customers[\"age\"] = year - customers[\"birth\"]"
   ]
  },
  {
   "attachments": {},
   "cell_type": "markdown",
   "metadata": {},
   "source": [
    "### <font color='skyblue'> 3) Traitement des types </font>\n"
   ]
  },
  {
   "attachments": {},
   "cell_type": "markdown",
   "metadata": {},
   "source": [
    "Nous allons uniformiser le type de nos dataframes avant la jointure.\n",
    "\n",
    "\n",
    "- Pour le fichier \"products\", nous allons modifier le tpe de la colonne \"categ\" en object\n",
    "- Pour le fichier \"transactions\", nous allons simplement modifier le type de la colonne date, chose impossible avant car des \"string\" polluaient les lignes de cette colonne"
   ]
  },
  {
   "cell_type": "code",
   "execution_count": null,
   "metadata": {},
   "outputs": [],
   "source": [
    "# Conversion de \"categ\" en object\n",
    "products['categ'] = products['categ'].astype(object)\n",
    "\n",
    "# Nous convertissons les dates du fichier transactions\n",
    "transactions['date']= pd.to_datetime(transactions['date'])"
   ]
  },
  {
   "attachments": {},
   "cell_type": "markdown",
   "metadata": {},
   "source": [
    "### <font color='skyblue'> 4) Première jointure </font>\n"
   ]
  },
  {
   "attachments": {},
   "cell_type": "markdown",
   "metadata": {},
   "source": [
    "Nous allons procéder à la jointure de nos différents fichiers comme suit :\n",
    "- Nous réaliserons d'abord une jointure entre le fichier \"transactions\" et le fichier \"products\". La clé primaire utilisée est \"id_prod\" qui a 3287 valeurs uniques dans le fichier \"products\" et 3266 valeurs uniques dans le fichier \"transactions\".\n",
    "- Nous observerons d'abord les lignes qui n'ont pas de correspondance dans le fichier \"products\", il s'agira probablement d'erreur.\n",
    "- Nous observerons ensuite les lignes qui n'ont pas de correspondance dans le fichier \"transactions\", il s'agira simplement de produits invendus."
   ]
  },
  {
   "cell_type": "code",
   "execution_count": null,
   "metadata": {},
   "outputs": [],
   "source": [
    "# Nous faisons la jointure entre transaction et customers\n",
    "join_trans_prod = pd.merge(transactions, products, on=[\"id_prod\"], how='outer', indicator=True)\n",
    "\n",
    "# Nous observons les lignes sans correspondances du côté products\n",
    "transac_sans_product = join_trans_prod[join_trans_prod['_merge']=='left_only']\n",
    "transac_sans_product"
   ]
  },
  {
   "attachments": {},
   "cell_type": "markdown",
   "metadata": {},
   "source": [
    "Nous constatons que des lignes de transaction apparaissent et n'ont pas de correspondance dans le fichier \"products\", il s'agit pour toutes les lignes du produit \"0_2245\". Il est impossible d'avoir une transaction sans produit vendu, de ce fait il s'agit certainement d'une erreur, ou d'un ajout de produit dans le site sans ajout dans le catalogue de références produits (ce qui peut arriver lorsque on ajoute une référence rapidement pour un événement spécial ou une promotion). Pour avoir une analyse au plus proche de la réalité, nous allons conserver ces lignes et simuler un prix et une catégorie afin de ne pas avoir de remontée d'erreurs. Nous allons procéder comme suit :\n",
    "- Nous calculerons la médiane de nos prix, elle est moins sensible aux valeurs aberrantes que la moyenne\n",
    "- Nous attribuerons au produit \"0_2245\" un prix médian\n",
    "- Nous attribuerons la catégorie \"0\", elle apparait en 1er caractère dans le \"id_prod\""
   ]
  },
  {
   "cell_type": "code",
   "execution_count": null,
   "metadata": {},
   "outputs": [],
   "source": [
    "# Nous calculons la médiane\n",
    "mediane = join_trans_prod.loc[(join_trans_prod[\"categ\"]==0),\"price\"].median()\n",
    "\n",
    "# Nous attribuons la valeur médiane au prix\n",
    "join_trans_prod[\"price\"] = np.where(join_trans_prod[\"id_prod\"] == \"0_2245\", mediane, join_trans_prod[\"price\"])\n",
    "\n",
    "# Nous attribuons la valeur 0 à la catégorie\n",
    "join_trans_prod[\"categ\"] = np.where(join_trans_prod[\"id_prod\"] == \"0_2245\", 0, join_trans_prod[\"categ\"])"
   ]
  },
  {
   "cell_type": "code",
   "execution_count": null,
   "metadata": {},
   "outputs": [],
   "source": [
    "# Nous observons les lignes sans correspondances du côté transactions\n",
    "product_sans_transac = join_trans_prod[join_trans_prod['_merge']=='right_only']\n",
    "product_sans_transac"
   ]
  },
  {
   "attachments": {},
   "cell_type": "markdown",
   "metadata": {},
   "source": [
    "Nous observons une liste de produits qui n'ont pas été vendu jusqu'à maintenant. Cette liste de produits sans transactions sera retirée pour notre analyse. Nous la gardons sous le coude pour une analyse éventuelle des prix des produits. Nous procéderons comme suit :\n",
    "- Nous retirons les lignes sans transactions via l'occurence \"right_only\" \n",
    "- Nous retirons aussi les colonnes merge de notre dataframe avant de passer à la suite"
   ]
  },
  {
   "cell_type": "code",
   "execution_count": null,
   "metadata": {},
   "outputs": [],
   "source": [
    "# Nous retirons les lignes qui correspondent aux produits sans transaction\n",
    "join_trans_prod.drop(join_trans_prod[(join_trans_prod[\"_merge\"] == \"right_only\")].index, inplace=True)\n",
    "\n",
    "# Nous supprimons la colonne merge de notre fichier principal\n",
    "join_trans_prod = join_trans_prod.drop(['_merge'], axis=1)"
   ]
  },
  {
   "attachments": {},
   "cell_type": "markdown",
   "metadata": {},
   "source": [
    "### <font color='skyblue'> 5) Seconde jointure </font>\n"
   ]
  },
  {
   "attachments": {},
   "cell_type": "markdown",
   "metadata": {},
   "source": [
    "Notre première jointure a été réalisée avec succés, nous allons implémenter le fichier \"customers\" à la dataframe que nous avons créé. Nous allons procéder à la jointure de nos différents fichiers comme suit :\n",
    "- Nous réaliserons une jointure entre le fichier obtenu et le fichier \"customers\". Nous utiliserons la clé primaire \"client_id\" qui a 8621 valeurs uniques dans le fichier \"customers\" et 8600 valeurs uniques dans le fichier \"transactions\".\n",
    "- Nous observerons d'abord les lignes qui n'ont pas de correspondance dans le fichier \"customers\"\n",
    "- Nous observerons ensuite les lignes qui n'ont pas de correspondance dans le fichier \"join_trans_prod\""
   ]
  },
  {
   "cell_type": "code",
   "execution_count": null,
   "metadata": {},
   "outputs": [],
   "source": [
    "# Nous réalisons la jointure complète\n",
    "join_full_data = pd.merge(join_trans_prod, customers, on='client_id', how='outer', indicator=True)\n",
    "\n",
    "# Nous observons les transactions qui n'ont pas de client\n",
    "transac_sans_customers = join_full_data[join_full_data['_merge']=='left_only']\n",
    "transac_sans_customers "
   ]
  },
  {
   "cell_type": "code",
   "execution_count": null,
   "metadata": {},
   "outputs": [],
   "source": [
    "# Nous observons les clients qui n'ont pas de transactions\n",
    "customers_sans_transac = join_full_data[join_full_data['_merge']=='right_only']\n",
    "customers_sans_transac"
   ]
  },
  {
   "attachments": {},
   "cell_type": "markdown",
   "metadata": {},
   "source": [
    "L'affichage des transactions sans clients ne donne rien, toutes nos lignes ont trouver une correspondance du côté des transactions.\n",
    "L'affichage des clé qui n'ont pas obtenu de correspondance dans le fichier de transactions met en lumière 21 lignes. Ces lignes correspondent à des clients qui se sont inscrits sur le site mais n'ont réalisé aucune transaction. Il peut s'agir de paniers abandonnés par exemple. Nous allons les traiter comme suit :\n",
    "- Nous allons supprimer les lignes de clients qui n'ont pas de transaction pour cette analyse via la colonne merge = right_only"
   ]
  },
  {
   "cell_type": "code",
   "execution_count": null,
   "metadata": {},
   "outputs": [],
   "source": [
    "# Nous supprimons les clients sans transaction\n",
    "join_full_data.drop(join_full_data[(join_full_data[\"_merge\"] == \"right_only\")].index, inplace=True)\n",
    "\n",
    "# Nous supprimons la colonne merge de notre fichier principal\n",
    "join_full_data = join_full_data.drop(['_merge'], axis=1)"
   ]
  },
  {
   "attachments": {},
   "cell_type": "markdown",
   "metadata": {},
   "source": [
    "### <font color='skyblue'> 6) Conclusion </font>\n"
   ]
  },
  {
   "attachments": {},
   "cell_type": "markdown",
   "metadata": {},
   "source": [
    "Notre dataframe est prêt à être exploité, il a été réalisé via la jointure entre nos 3 fichiers, les lignes de test ont été supprimées, les produits sans prix ont été corrigés, les produits invendus et les clients sans transactions on été extraits, les types ont été uniformisés et une colonne âge a été ajoutée. Nous décidons de nommer notre dataframe comme suit : \"full_data\""
   ]
  },
  {
   "cell_type": "code",
   "execution_count": null,
   "metadata": {},
   "outputs": [],
   "source": [
    "full_data = join_full_data"
   ]
  },
  {
   "attachments": {},
   "cell_type": "markdown",
   "metadata": {},
   "source": [
    "# <a name=\"C4\"> C) Analyse univariée</a>\n",
    "***\n"
   ]
  },
  {
   "attachments": {},
   "cell_type": "markdown",
   "metadata": {},
   "source": [
    "## <a name=\"C4\"> Nos produits</a>"
   ]
  },
  {
   "attachments": {},
   "cell_type": "markdown",
   "metadata": {},
   "source": [
    "### <font color='skyblue'> 1) Distribution des prix </font>\n"
   ]
  },
  {
   "cell_type": "code",
   "execution_count": null,
   "metadata": {},
   "outputs": [],
   "source": [
    "# Nous visualisons les infos et la distribution des prix\n",
    "print(full_data['price'].describe())\n",
    "\n",
    "plt.figure(figsize=(10,6))\n",
    "sns.histplot(data=full_data['price'], color='firebrick')\n",
    "plt.xticks(rotation=45)\n",
    "plt.title('Distribution des prix de nos produits vendus en ligne')\n",
    "plt.savefig('distribution_prix.png', dpi=300, bbox_inches='tight')\n",
    "plt.show()"
   ]
  },
  {
   "attachments": {},
   "cell_type": "markdown",
   "metadata": {},
   "source": [
    "Le prix des produits sont compris entre 0€62 et  300€ tandis que les 3/4 des produits affichent un prix inférieur à 19€. Le nombre important de valeurs considérées comme aberrantes indique une distribution de prix très inégale."
   ]
  },
  {
   "attachments": {},
   "cell_type": "markdown",
   "metadata": {},
   "source": [
    "### <font color='skyblue'> 2) Prix par catégorie</font>"
   ]
  },
  {
   "cell_type": "code",
   "execution_count": null,
   "metadata": {},
   "outputs": [],
   "source": [
    "# Nous affichons le prix moyen par catégorie\n",
    "prix_categ = products.groupby([\"categ\"])[\"price\"].mean()\n",
    "print(prix_categ)\n",
    "\n",
    "# Nous visualisons la distibution des prix par catégorie\n",
    "plt.figure(figsize=(10,6))\n",
    "sns.set()\n",
    "ax = sns.boxplot(x=full_data.price, y=full_data.categ, orient='h', palette=[\"lightcoral\", \"chocolate\", \"firebrick\"] )\n",
    "ax.set(xlabel='Prix en euros', ylabel='Catégorie', title='Distribution des prix par catégorie')\n",
    "plt.savefig('distribution_prix_categ.png', dpi=300, bbox_inches='tight')\n",
    "plt.show()"
   ]
  },
  {
   "attachments": {},
   "cell_type": "markdown",
   "metadata": {},
   "source": [
    "Des gammes de produits se détachent clairement, la catégorie 0 étant la moins onéreuse, la catégorie 1 le millieu de gamme, et la catégorie 2 la haut de gamme avec des prix bien supérieurs dont la moyenne de prix s'élève à 108€."
   ]
  },
  {
   "attachments": {},
   "cell_type": "markdown",
   "metadata": {},
   "source": [
    "### <font color='skyblue'> 3) Produits par catégorie </font>"
   ]
  },
  {
   "cell_type": "code",
   "execution_count": null,
   "metadata": {},
   "outputs": [],
   "source": [
    "# Nous affichons la proportion de produits par catégorie\n",
    "print(products.groupby([\"categ\"])[\"id_prod\"].count())\n",
    "\n",
    "plt.figure(figsize=(10,6))\n",
    "plt.title(\"Proportion de produits dans chaque catégorie\")\n",
    "labels = ['Catégorie 0','Catégorie 1','Catégorie 2']\n",
    "colors = ['lightcoral', 'chocolate', 'firebrick']\n",
    "plt.pie(products.groupby([\"categ\"])[\"id_prod\"].count(), labels=labels,colors=colors, autopct='%.1f%%', wedgeprops=dict(width=0.2), startangle=55)\n",
    "plt.savefig('proportion_produit_categ.png', dpi=300, bbox_inches='tight')\n",
    "plt.show()"
   ]
  },
  {
   "attachments": {},
   "cell_type": "markdown",
   "metadata": {},
   "source": [
    "## <a name=\"C4\"> Nos clients</a>"
   ]
  },
  {
   "attachments": {},
   "cell_type": "markdown",
   "metadata": {},
   "source": [
    "### <font color='skyblue'> 1) Distribution par sexe </font>"
   ]
  },
  {
   "cell_type": "code",
   "execution_count": null,
   "metadata": {},
   "outputs": [],
   "source": [
    "# Nous affichons la proportion d'hommes et de femmes\n",
    "plt.figure(figsize=(10,6))\n",
    "plt.title('Répartition par sexe de nos clients')\n",
    "labels = ['Femmes','Hommes']\n",
    "colors = ['chocolate', 'firebrick']\n",
    "plt.pie(full_data.sex.value_counts(), labels=labels,colors=colors ,autopct='%.1f%%', wedgeprops=dict(width=0.2), startangle=40)\n",
    "plt.savefig('repartition_sexe.png', dpi=300, bbox_inches='tight')\n",
    "plt.show()"
   ]
  },
  {
   "attachments": {},
   "cell_type": "markdown",
   "metadata": {},
   "source": [
    "### <font color='skyblue'> 2) Distribution par âge </font>"
   ]
  },
  {
   "cell_type": "code",
   "execution_count": null,
   "metadata": {},
   "outputs": [],
   "source": [
    "# Nous visualisons une distribution de l'âge des clients\n",
    "plt.figure(figsize=(10,6))\n",
    "sns.histplot(data=full_data['age'], color='firebrick',bins=90,kde=True)\n",
    "plt.xticks(rotation=45)\n",
    "plt.ylabel(\"nombre de clients\")\n",
    "plt.xlabel(\"âge\")\n",
    "plt.title(\"Ditribution des clients selon leur âge\")\n",
    "plt.savefig('distribution_age.png', dpi=300, bbox_inches='tight')\n",
    "plt.show()"
   ]
  },
  {
   "attachments": {},
   "cell_type": "markdown",
   "metadata": {},
   "source": [
    "### <font color='skyblue'> 3) Création de tranches d'âge </font>"
   ]
  },
  {
   "cell_type": "code",
   "execution_count": null,
   "metadata": {},
   "outputs": [],
   "source": [
    "# Nous créons des tranches d'âge pour la suite de l'étude\n",
    "full_data[\"tranche_age\"] = pd.cut(x= full_data[\"age\"], bins=[18,30,40,50,99], include_lowest=False, ordered=True)\n",
    "\n",
    "# Nous visualisons la distribution par tranche d'age \n",
    "plt.figure(figsize=(10,6))\n",
    "plt.title('Répartition des clients par classe d\\'âge')\n",
    "labels = [\"matures(40-50ans)\",\"adultes(30-40ans)\",\"jeunes(18-30ans)\",\"seniors(+50ans)\"]\n",
    "colors = ['chocolate','tan','lightcoral', 'firebrick',]\n",
    "plt.pie(full_data.tranche_age.value_counts(), labels=labels, colors=colors ,autopct='%.1f%%', wedgeprops=dict(width=0.2), startangle=-120)\n",
    "plt.savefig('repartition_age.png', dpi=300, bbox_inches='tight')\n",
    "plt.show()\n"
   ]
  },
  {
   "attachments": {},
   "cell_type": "markdown",
   "metadata": {},
   "source": [
    "Nous créons des tranches d'âge équilibrées afin qu'un nombre d'individu trop important au sein de la même classe ne fausse pas les résultats de l'analyse."
   ]
  },
  {
   "attachments": {},
   "cell_type": "markdown",
   "metadata": {},
   "source": [
    "# <a name=\"C4\"> D) Analyse du chiffre d'affaires</a>\n",
    "***"
   ]
  },
  {
   "attachments": {},
   "cell_type": "markdown",
   "metadata": {},
   "source": [
    "## <a name=\"C4\"> Notre chiffre d'affaires global</a>"
   ]
  },
  {
   "attachments": {},
   "cell_type": "markdown",
   "metadata": {},
   "source": [
    "### <font color='skyblue'> 1) Chiffre d'affaires </font>\n"
   ]
  },
  {
   "cell_type": "code",
   "execution_count": null,
   "metadata": {},
   "outputs": [],
   "source": [
    "# Nous calculons le chiffre d'affaires total\n",
    "ca_total = full_data['price'].sum()\n",
    "print(\"Le chiffre d'affaires total est de\", ca_total, \"€\")\n",
    "\n",
    "# Puis l'évolution du chiffre d'affaires\n",
    "ca_evolution = full_data.groupby(full_data[\"date\"].dt.year)[\"price\"].sum()\n",
    "print(\"Evolution du chiffre d'affaires par année:\\n\", ca_evolution)\n",
    "\n",
    "# Et l'évolution du nombre de ventes\n",
    "ventes_evolution = full_data.groupby(full_data[\"date\"].dt.year)[\"session_id\"].count()\n",
    "print(\"Evolution du nombre de full_data par année:\\n\", ventes_evolution)"
   ]
  },
  {
   "attachments": {},
   "cell_type": "markdown",
   "metadata": {},
   "source": [
    "Nos données s'étalent de mars 2021 à fevrier 2023, nous n'avons donc qu'une année complète.\n",
    "Notre chiffre d'affaires total s'élève à 11 855 936 € dont plus de la moitié pour la seule année 2022.\n",
    "Nous pouvons apercevoir une tendance haussière, entre 2021 et 2022 et 2023 malgré les données incomplètes. "
   ]
  },
  {
   "attachments": {},
   "cell_type": "markdown",
   "metadata": {},
   "source": [
    "### <font color='skyblue'> 2) Evolution du chiffre d'affaires </font>\n"
   ]
  },
  {
   "cell_type": "code",
   "execution_count": null,
   "metadata": {},
   "outputs": [],
   "source": [
    "# Nous classons les dates par ordre chronologique\n",
    "full_data = full_data.sort_values([\"date\"],ascending=True)\n",
    "\n",
    "# Nous calculons l'évolution du chiffre d'affaires mensuel\n",
    "ca_evolution_mensuelle = full_data.groupby([full_data[\"date\"].dt.year,full_data[\"date\"].dt.month])[\"price\"].sum()\n",
    "\n",
    "# Puis l'évolution du nombre de ventes mensuelles\n",
    "ventes_evolution_mensuelle = full_data.groupby([full_data[\"date\"].dt.year,full_data[\"date\"].dt.month])[\"price\"].count()\n",
    "\n",
    "# Nous representons graphiquement\n",
    "plt.figure(figsize=(10,6))\n",
    "ca_evolution_mensuelle.plot(color='firebrick')\n",
    "plt.xticks(rotation=45)\n",
    "plt.xlabel(\"Date\")\n",
    "plt.ylabel(\"Chiffre d'affaires en euros\")\n",
    "plt.title(\"Evolution mensuelle du chiffre d'affaires\")\n",
    "plt.savefig('evolution_ca.png', dpi=300, bbox_inches='tight')\n",
    "plt.show()"
   ]
  },
  {
   "cell_type": "code",
   "execution_count": null,
   "metadata": {},
   "outputs": [],
   "source": [
    "# Nous créons une colonnes pour faciliter la suite de l'analyse\n",
    "full_data[\"year\"] = full_data[\"date\"].dt.year\n",
    "full_data[\"month\"] = full_data[\"date\"].dt.month\n",
    "full_data[\"day\"] = full_data[\"date\"].dt.day\n",
    "\n",
    "# Puis extréons les données du mois d'octobre\n",
    "octobre = full_data.loc[(full_data[\"year\"] == 2021) & (full_data[\"month\"] == 10), [\"day\", \"price\",\"categ\"]]\n",
    "octobre = octobre.groupby([\"day\",\"categ\"]).agg({\"price\":[\"sum\",\"count\"]}).reset_index()\n",
    "octobre.columns = [\"day\", \"categ\", \"ca\", \"volume\"]\n",
    "octobre = pd.pivot_table(octobre, columns=[\"categ\"], index=[\"day\"]).reset_index()\n",
    "octobre.columns = [\"day\", 'ca_0', 'ca_1', 'ca_2', 'vol_0', 'vol_1', 'vol_2']\n",
    "\n",
    "# Representons graphiquement\n",
    "for x, categ in enumerate([0,1,2]):\n",
    "    plt.figure(figsize=(30,2))\n",
    "    plt.subplot(1,2,1)\n",
    "    plt.bar(octobre[\"day\"], octobre[f'vol_{categ}'], color='firebrick', width=0.5, linewidth = 1)\n",
    "    plt.xlabel(\"Date\")\n",
    "    plt.ylabel(f'Catégorie {categ}')\n",
    "    plt.title(\"Nombre de vente par jour par catégorie\")\n",
    "    plt.savefig('vente_octobre.png', dpi=300, bbox_inches='tight')\n",
    "    plt.show()\n"
   ]
  },
  {
   "cell_type": "code",
   "execution_count": null,
   "metadata": {},
   "outputs": [],
   "source": [
    "# Nous décomposons en moyenne mobile\n",
    "moyenne_mobile = ca_evolution_mensuelle.rolling(3).mean()\n",
    "print(moyenne_mobile)\n",
    "\n",
    "# Représentons graphiquement\n",
    "plt.figure(figsize=(10,6))\n",
    "moyenne_mobile.plot(color='firebrick')\n",
    "plt.xticks(rotation=45)\n",
    "plt.xlabel(\"Période\")\n",
    "plt.ylabel(\"Chiffre d'affaires\")\n",
    "plt.title(\"Moyenne mobile mensuelle\")\n",
    "plt.savefig('moyenne_mobile.png', dpi=300, bbox_inches='tight')\n",
    "plt.show()"
   ]
  },
  {
   "attachments": {},
   "cell_type": "markdown",
   "metadata": {},
   "source": [
    "Nous constatons une baisse drastique et anormale du Chiffre d'Affaires en octobre 2021, en creusant, nous nous rendons compte que cette baisse est dûe à une absence de données de ventes sur une partie du mois d'octobre. \n",
    "En effet, entre le 02 et le 28 octobre 2021, toutes les ventes de la catégorie 1 sont à 0. Les données des catégories 0 et 2 se comportent visiblement normalement. \n",
    "Cette absence de données peut être le fait d'un dysfonctionnement sur le site internet, mais aussi le retrait des ventes de toute une catégorie pendant une période donnée.\n",
    "Nous choisissons de ne pas supprimer toutes les données du mois d'octobre, en effet 2/3 de nos données sont toujours présentes. Nous avons reperé cette aberration, il s'agira par la suite d'en tenir compte dans notre analyse.\n",
    "La moyenne mobile permet de lisser une série de valeurs exprimées en fonction du temps afin d'en extraire une tendance. En ignorant le creux de la courbe dû à notre erreur exprimée plus tôt, nous constatons une nette hausse du Chiffre d'affaires sur la période fin d'année 2021 / début d'année 2023 les ventes étant certainement boostées par les fêtes de fin d'année puis par les soldes d'hiver. Cette tendance ne se décrit pas à nouveau sur la fin d'année 2022.\n"
   ]
  },
  {
   "attachments": {},
   "cell_type": "markdown",
   "metadata": {},
   "source": [
    "## <a name=\"C4\"> Notre chiffre d'affaires par produit</a>"
   ]
  },
  {
   "attachments": {},
   "cell_type": "markdown",
   "metadata": {},
   "source": [
    "### <font color='skyblue'> 1) Inégalités des ventes entre les produits </font>"
   ]
  },
  {
   "cell_type": "code",
   "execution_count": null,
   "metadata": {},
   "outputs": [],
   "source": [
    "# Nous déterminons le nombre de vente par produit\n",
    "ventes_produits = full_data.groupby([\"id_prod\"])[\"session_id\"].count()\n",
    "ventes_produits.sort_values(0, ascending=False)\n",
    "\n",
    "ventes_produits.describe()"
   ]
  },
  {
   "attachments": {},
   "cell_type": "markdown",
   "metadata": {},
   "source": [
    "Le produit le plus vendu l'a été 2252 fois, le moins vendu seulement 1 fois. Nos produits sont vendus en moyenne 208 fois, tandis que la moitié des produits sont vendus moins de 57 fois."
   ]
  },
  {
   "cell_type": "code",
   "execution_count": null,
   "metadata": {},
   "outputs": [],
   "source": [
    "# Nous représentons une courbe de Lorenz des ventes par produit\n",
    "lorenz_ventes_produits = np.cumsum(np.sort(ventes_produits)) / ventes_produits.sum()\n",
    "\n",
    "plt.figure(figsize=(10,6))\n",
    "plt.plot(np.linspace(0,1,len(lorenz_ventes_produits)), lorenz_ventes_produits, drawstyle='steps-post', color='lightcoral', label='Lorenz')\n",
    "plt.fill_between(np.linspace(0,1,len(lorenz_ventes_produits)) ,lorenz_ventes_produits , color='linen')\n",
    "plt.plot([0, 1], [0, 1], 'r-', lw=2, label='Distribution égalitaire', color='firebrick')\n",
    "plt.vlines(x=0.90, ymin=0, ymax=.5, color='steelblue', linewidth=1, label='Médial')\n",
    "plt.hlines(xmin=.90, xmax=0, y=.5, color='steelblue', linewidth=1)\n",
    "plt.title('Courbe de Lorenz du nombre de ventes par produit')\n",
    "plt.xlabel(\"Cumul des ventes\")\n",
    "plt.ylabel(\"Cumul des produits\")\n",
    "plt.xticks(rotation=45)\n",
    "plt.legend(loc=\"best\")\n",
    "plt.savefig('lorenz_vente_produits.png', dpi=300, bbox_inches='tight')\n",
    "plt.show()\n",
    "\n",
    "# Nous calculons l'indice de Gini\n",
    "aire_ventes_produits = lorenz_ventes_produits[:-1].sum() / len(lorenz_ventes_produits)\n",
    "s_ventes_produits = 0.5 - aire_ventes_produits\n",
    "gini_ventes_produits = 2* s_ventes_produits\n",
    "print(\"indice de Gini:\",round(gini_ventes_produits,3))"
   ]
  },
  {
   "attachments": {},
   "cell_type": "markdown",
   "metadata": {},
   "source": [
    "Nous visualisons une courbe très éloignée de la diagonale, ce qui indique de fortes inégalités entre les ventes de nos produits. L'indice de Gini, qui se trouve en mesurant l'aire entre la diagonale et la courbe de Lorenz se chiffre à 0.694 ce qui confirme l'importance de ces inégalités. Nous constatons aussi que 50% du nombre de ventes est réalisée par seulement 10% des références produits."
   ]
  },
  {
   "attachments": {},
   "cell_type": "markdown",
   "metadata": {},
   "source": [
    "### <font color='skyblue'> 2) Inégalités de chiffre d'affaires entre les produits </font>"
   ]
  },
  {
   "cell_type": "code",
   "execution_count": null,
   "metadata": {},
   "outputs": [],
   "source": [
    "# Nous déterminons le nombre de vente par produit\n",
    "ca_produit = full_data.groupby([\"id_prod\"])[\"price\"].sum()\n",
    "ca_produit.sort_values(0, ascending=False)\n",
    "\n",
    "ca_produit.describe()"
   ]
  },
  {
   "attachments": {},
   "cell_type": "markdown",
   "metadata": {},
   "source": [
    "Le produit ayant généré le plus de CA en a généré 94893€, le produit ayant généré le moins de CA en a généré 0€99. Nos produits générent en moyenne 3630€ de CA, 75% de nos produits se trouvent sous cette barre."
   ]
  },
  {
   "cell_type": "code",
   "execution_count": null,
   "metadata": {},
   "outputs": [],
   "source": [
    "# Nous représentons une courbe de Lorenz des ventes par produit\n",
    "lorenz_ca_produit = np.cumsum(np.sort(ca_produit)) / ca_produit.sum()\n",
    "\n",
    "plt.figure(figsize=(10,6))\n",
    "plt.plot(np.linspace(0,1,len(lorenz_ca_produit)), lorenz_ca_produit, drawstyle='steps-post', color='lightcoral', label='Lorenz')\n",
    "plt.fill_between(np.linspace(0,1,len(lorenz_ca_produit)) ,lorenz_ca_produit , color='linen')\n",
    "plt.plot([0, 1], [0, 1], 'r-', lw=2, label='Distribution égalitaire', color='firebrick')\n",
    "plt.vlines(x=0.93, ymin=0, ymax=.5, color='steelblue', linewidth=1, label='Médial')\n",
    "plt.hlines(xmin=.93, xmax=0, y=.5, color='steelblue', linewidth=1)\n",
    "plt.title('Courbe de Lorenz du chiffre d\\'affaires par produit')\n",
    "plt.xlabel(\"Cumul des chiffres d\\'affaires\")\n",
    "plt.ylabel(\"Cumul des produits\")\n",
    "plt.xticks(rotation=45)\n",
    "plt.legend(loc=\"best\")\n",
    "plt.savefig('lorenz_ca_produits.png', dpi=300, bbox_inches='tight')\n",
    "plt.show()\n",
    "\n",
    "# Nous calculons l'indice de Gini\n",
    "aire_ca_produit = lorenz_ca_produit[:-1].sum() / len(lorenz_ca_produit)\n",
    "s_ca_produit = 0.5 - aire_ca_produit\n",
    "gini_ca_produit = 2* s_ca_produit\n",
    "print(\"indice de Gini:\",round(gini_ca_produit,3))"
   ]
  },
  {
   "attachments": {},
   "cell_type": "markdown",
   "metadata": {},
   "source": [
    "Le chiffre d'affaire par produit est une variable extremement inégalitaire, en effet nous constatons que 93% du chiffre d'affaires est réalisé par seulement la moitié de nos articles. L'indice de Gini confirme cette tendance à 0.743."
   ]
  },
  {
   "attachments": {},
   "cell_type": "markdown",
   "metadata": {},
   "source": [
    "### <font color='skyblue'> 3) Nos ventes par catégorie de produit </font>\n"
   ]
  },
  {
   "cell_type": "code",
   "execution_count": null,
   "metadata": {},
   "outputs": [],
   "source": [
    "# Nous comptons le nombre de ventes par catégories\n",
    "vol_categ = full_data.groupby([\"categ\"])[\"id_prod\"].count()\n",
    "print(vol_categ)"
   ]
  },
  {
   "attachments": {},
   "cell_type": "markdown",
   "metadata": {},
   "source": [
    "La catégorie 0 contient le plus de références, et réalise naturellement le plus de ventes, tandis que la catégorie 2 en réalise 10 fois moins."
   ]
  },
  {
   "attachments": {},
   "cell_type": "markdown",
   "metadata": {},
   "source": [
    "### <font color='skyblue'> 4) Notre chiffre d'affaires par catégorie de produit </font>"
   ]
  },
  {
   "cell_type": "markdown",
   "metadata": {},
   "source": []
  },
  {
   "cell_type": "code",
   "execution_count": null,
   "metadata": {},
   "outputs": [],
   "source": [
    "# Nous classons les données par catégories\n",
    "ventes_categ0 = full_data.loc[full_data['categ'] == 0]\n",
    "ventes_categ1 = full_data.loc[full_data['categ'] == 1]\n",
    "ventes_categ2 = full_data.loc[full_data['categ'] == 2]\n",
    "\n",
    "# Puis calculons le CA par catégorie \n",
    "ca_categ0 = ventes_categ0['price'].sum()\n",
    "ca_categ1 = ventes_categ1['price'].sum()\n",
    "ca_categ2 = ventes_categ2['price'].sum()\n",
    "print('CA catégorie 0 =', ca_categ0, '€')\n",
    "print('CA catégorie 1 =', ca_categ1, '€')\n",
    "print('CA catégorie 2 =', ca_categ2, '€')\n",
    "\n",
    "# Representons graphiquement\n",
    "plt.figure(figsize=(10,6))\n",
    "plt.title('Chiffre d\\'affaires par catégorie de produit')\n",
    "slices = [ca_categ0, ca_categ1, ca_categ2]\n",
    "labels = ['Catégorie 0', 'Catégorie 1', 'Catégorie 2']\n",
    "colors = ['lightcoral', 'chocolate','firebrick',]\n",
    "plt.pie(slices, autopct='%.1f%%', labels=labels, colors=colors, wedgeprops=dict(width=0.2), startangle=-45)\n",
    "plt.savefig('ca_par_categorie.png', dpi=300, bbox_inches='tight')\n",
    "plt.show()\n"
   ]
  },
  {
   "attachments": {},
   "cell_type": "markdown",
   "metadata": {},
   "source": [
    "Les catégories 0 et 1 générent quasiment la même proportion de chiffre d'affaire tandis que la catégorie 2 se retrouve plus en retrait."
   ]
  },
  {
   "attachments": {},
   "cell_type": "markdown",
   "metadata": {},
   "source": [
    "## <a name=\"C4\"> Notre chiffre d'affaires par client</a>"
   ]
  },
  {
   "attachments": {},
   "cell_type": "markdown",
   "metadata": {},
   "source": [
    "### <font color='skyblue'> 1) Classement de nos clients par chiffre d'affaires </font>\n"
   ]
  },
  {
   "cell_type": "code",
   "execution_count": null,
   "metadata": {},
   "outputs": [],
   "source": [
    "# Nous créons une colonne affichant le chiffre d'affaires total par client\n",
    "full_data = full_data.merge(\n",
    "    full_data.pivot_table(\n",
    "    index='client_id', values='price', \n",
    "    aggfunc='sum').reset_index().rename(\n",
    "    columns={'price': 'ca_client'}),\n",
    "    on='client_id', how='left')\n",
    "\n",
    "# Nous affichons le classement des plus gros clients\n",
    "ca_par_client = full_data.groupby([\"client_id\"])[\"price\"].sum().sort_values(ascending=False)\n",
    "ca_par_client"
   ]
  },
  {
   "attachments": {},
   "cell_type": "markdown",
   "metadata": {},
   "source": [
    "Nous listons 4 clients qui se démarquent par le montant du chiffre d'affaires réalisé, il s'agit certainement de clients professionnels, ces clients seront traités à part dans notre analyse pour ne pas la fausser. Visualisons cette inégalité avant de passer à l'analyse de chacun des types de clients."
   ]
  },
  {
   "attachments": {},
   "cell_type": "markdown",
   "metadata": {},
   "source": [
    "### <font color='skyblue'> 2) Inégalité de chiffre d'affaires par client </font>\n"
   ]
  },
  {
   "cell_type": "code",
   "execution_count": null,
   "metadata": {},
   "outputs": [],
   "source": [
    "# Nous représentons une courbe de Lorenz des ventes par produit\n",
    "lorenz_ca_client = np.cumsum(np.sort(ca_par_client)) / ca_par_client.sum()\n",
    "\n",
    "plt.figure(figsize=(10,6))\n",
    "plt.plot(np.linspace(0,1,len(lorenz_ca_client)), lorenz_ca_client, drawstyle='steps-post', color='lightcoral', label='Lorenz')\n",
    "plt.fill_between(np.linspace(0,1,len(lorenz_ca_client)) ,lorenz_ca_client , color='linen')\n",
    "plt.plot([0, 1], [0, 1], 'r-', lw=2, label='Distribution égalitaire', color='firebrick')\n",
    "plt.vlines(x=0.79, ymin=0, ymax=.5, color='steelblue', linewidth=1, label='Médial')\n",
    "plt.hlines(xmin=.79, xmax=0, y=.5, color='steelblue', linewidth=1)\n",
    "plt.title('Courbe de Lorenz du chiffre d\\'affaires par client')\n",
    "plt.xlabel(\"Cumul des clients\")\n",
    "plt.ylabel(\"Cumul des chiffres d'affaires\")\n",
    "plt.xticks(rotation=45)\n",
    "plt.legend(loc=\"best\")\n",
    "plt.savefig('lorenz_ca_client.png', dpi=300, bbox_inches='tight')\n",
    "plt.show()\n",
    "\n",
    "# Nous calculons l'indice de Gini\n",
    "aire_ca_client = lorenz_ca_client[:-1].sum() / len(lorenz_ca_client)\n",
    "s_ca_client = 0.5 - aire_ca_client\n",
    "gini_ca_client = 2* s_ca_client\n",
    "print(\"indice de Gini:\",round(gini_ca_client,3))"
   ]
  },
  {
   "attachments": {},
   "cell_type": "markdown",
   "metadata": {},
   "source": [
    "La visualisation sur la courbe de Lorenz indique une tendance plutôt inégalitaire en partie dûe aux données des clients professionnels qui augmentent significativement l'aire entre la courbe et la diagonale. En effet, on constate clairement un méplat lorsque la courbe se rapproche de 1. La médial nous informe que 50% du chiffre d'affaires est réalisé par seulemen20% des clients. Aussi, l'indice de Gini s'élève à 0.44, ce qui corobore la tendance d'inégalité."
   ]
  },
  {
   "attachments": {},
   "cell_type": "markdown",
   "metadata": {},
   "source": [
    "## <a name=\"C4\"> Zoom sur nos clients professionnels</a>"
   ]
  },
  {
   "attachments": {},
   "cell_type": "markdown",
   "metadata": {},
   "source": [
    "### <font color='skyblue'> 1) Poids de nos clients professionnels sur le chiffre d'affaires</font>\n"
   ]
  },
  {
   "cell_type": "code",
   "execution_count": null,
   "metadata": {},
   "outputs": [],
   "source": [
    "# Nous créons une colonne qui indique le type de client et y ajoutons nos clients pros\n",
    "full_data['type_client'] = 'part'\n",
    "full_data.loc[full_data['client_id'] == \"c_1609\", 'type_client'] = 'pro'\n",
    "full_data.loc[full_data['client_id'] == \"c_4958\", 'type_client'] = 'pro'\n",
    "full_data.loc[full_data['client_id'] == \"c_6714\", 'type_client'] = 'pro'\n",
    "full_data.loc[full_data['client_id'] == \"c_3454\", 'type_client'] = 'pro'\n",
    "\n",
    "# Puis créons 2 dataframes distincts\n",
    "data_pro = full_data[full_data['type_client']=='pro']\n",
    "data_part = full_data[full_data['type_client']=='part']"
   ]
  },
  {
   "cell_type": "code",
   "execution_count": null,
   "metadata": {},
   "outputs": [],
   "source": [
    "# Nous calculons la proportion du CA pro\n",
    "pourcent_ca_pro = round (  data_pro['price'].sum() \n",
    "                        / full_data['price'].sum() * 100, 2)\n",
    "\n",
    "print(\"Le chiffre d'affaires des client pro s'élève à\",pourcent_ca_pro,\"% du chiffre d'affaires total.\")"
   ]
  },
  {
   "attachments": {},
   "cell_type": "markdown",
   "metadata": {},
   "source": [
    "### <font color='skyblue'> 2) Analyse des achats de nos clients professionnels</font>\n"
   ]
  },
  {
   "cell_type": "code",
   "execution_count": null,
   "metadata": {},
   "outputs": [],
   "source": [
    "# Nous distribuons les ventes par catégorie\n",
    "plt.figure(figsize=(10,6))\n",
    "labels = ['Catégorie 0', 'Catégorie 1', 'Catégorie 2']\n",
    "colors = ['lightcoral', 'chocolate','firebrick',]\n",
    "sns.countplot(data=data_pro, x='client_id', palette=[\"lightcoral\", \"chocolate\", \"firebrick\"], hue='categ')\n",
    "plt.xticks(rotation=45)\n",
    "plt.ylabel(\"Nombre de ventes\")\n",
    "plt.xlabel(\"Clients professionnels\")\n",
    "plt.title('Ventes aux clients professionnels par catégorie')\n",
    "plt.savefig('ventes_pro_categ.png', dpi=300, bbox_inches='tight')\n",
    "plt.show()"
   ]
  },
  {
   "attachments": {},
   "cell_type": "markdown",
   "metadata": {},
   "source": [
    "Le client c_1609 achète énormement de produits de catégorie 0, il n'achète pas du tout de produit de catégorie 2 comme le client c_3454. Le client c_4958 est le seul client pro à ne pas acheter de produits de catégorie 0 au profit de la catégorie 2."
   ]
  },
  {
   "cell_type": "code",
   "execution_count": null,
   "metadata": {},
   "outputs": [],
   "source": [
    "# Nous affichons la distribution des prix d'achats de nos pros\n",
    "plt.figure()\n",
    "plt.show()\n",
    "\n",
    "plt.figure(figsize=(10,6))\n",
    "sns.boxplot(data=data_pro, y='price', x='client_id', palette=[\"lightcoral\", \"chocolate\", \"firebrick\",'tan'], showfliers=False)\n",
    "plt.xticks(rotation=45)\n",
    "plt.ylabel(\"Nombre de ventes\")\n",
    "plt.xlabel(\"Clients professionnels\")\n",
    "plt.title('Distribution des prix d\\'achat des clients pro')\n",
    "plt.savefig('distribution_prix_pro.png', dpi=300, bbox_inches='tight')\n",
    "plt.show()"
   ]
  },
  {
   "attachments": {},
   "cell_type": "markdown",
   "metadata": {},
   "source": [
    "La distribution des prix d'achat indique des inégalités de consommation chez nos clients pros. Le client c_4958 achète uniquement des produits hauts de gamme comparé aux 3 autres."
   ]
  },
  {
   "attachments": {},
   "cell_type": "markdown",
   "metadata": {},
   "source": [
    "### <font color='skyblue'> 3) Evolution dans le temps des achats de nos clients professionnels</font>\n"
   ]
  },
  {
   "cell_type": "code",
   "execution_count": null,
   "metadata": {},
   "outputs": [],
   "source": [
    "for i in data_pro['client_id'].unique():\n",
    "    print('Client', i)\n",
    "    plt.figure(figsize=(10,6))\n",
    "    sns.histplot(data=data_pro[data_pro['client_id']==i], x='date', hue='categ', palette=[\"lightcoral\", \"chocolate\", \"firebrick\"], binwidth=10)\n",
    "    plt.xticks(rotation=45)\n",
    "    plt.ylabel(\"Nombre de ventes\")\n",
    "    plt.xlabel(\"Date\")\n",
    "    plt.title('Ventes aux clients professionnels par catégorie')\n",
    "    plt.savefig('evolution_vente_pro.png', dpi=300, bbox_inches='tight')\n",
    "    plt.show()"
   ]
  },
  {
   "attachments": {},
   "cell_type": "markdown",
   "metadata": {},
   "source": [
    "Nous discernons des habitudes de consommation, en effet, en fin d'année calendaire, plus de produits de catégorie 2 et 1 sont vendus. Puis autour de la rentrée scolaire plus de produits de la catégorie 0 sont vendus."
   ]
  },
  {
   "attachments": {},
   "cell_type": "markdown",
   "metadata": {},
   "source": [
    "Le poids de nos clients pros atteint 7.43% de notre chiffre d'affaires total, c'est une part relativement importante de nos chiffres. Nos 4 clients proffessionnels se comportent différemment les uns des autres. La catégorie, le prix d'achat, mais aussi la saisonalité est  différente pour chaque client. Nous pouvons deviner que chacun de ces revendeurs est spécialisé dans un type de produit, c_1609 est certainement spécialisé dans la littérature scolaire, tandis que c_4958 est certaiement spécialisé dans les beaux ouvrages comme en témoigne la saisonnalité de fin d'année et le prix d'achat des produits bien plus élevé."
   ]
  },
  {
   "attachments": {},
   "cell_type": "markdown",
   "metadata": {},
   "source": [
    "## <a name=\"C4\"> Zoom sur nos clients particuliers</a>"
   ]
  },
  {
   "attachments": {},
   "cell_type": "markdown",
   "metadata": {},
   "source": [
    "### <font color='skyblue'> 1) Notre chiffre d'affaires selon le sexe </font>"
   ]
  },
  {
   "cell_type": "code",
   "execution_count": null,
   "metadata": {},
   "outputs": [],
   "source": [
    "# Nous calculons la somme des CA par sexe afin de l'afficher dans un diagramme\n",
    "ca_sexe_clients = data_part.groupby([\"sex\"])[\"price\"].sum()\n",
    "print(ca_sexe_clients)\n",
    "\n",
    "plt.figure(figsize=(10,6))\n",
    "fig2, ax2 = plt.subplots()\n",
    "colors = ['chocolate', 'firebrick']\n",
    "ax2.pie(ca_sexe_clients,labels=[\"Femmes\",\"Hommes\"],autopct=\"%1.1f%%\",colors=colors, wedgeprops=dict(width=0.2), startangle=40)\n",
    "plt.title(\"Proportion du chiffre d'affaires selon le sexe des clients\")\n",
    "plt.savefig('repartition_ca_sexe.png', dpi=300, bbox_inches='tight')\n",
    "plt.show()"
   ]
  },
  {
   "attachments": {},
   "cell_type": "markdown",
   "metadata": {},
   "source": [
    "### <font color='skyblue'> 2) Notre chiffre d'affaires selon l'âge </font>"
   ]
  },
  {
   "cell_type": "code",
   "execution_count": null,
   "metadata": {},
   "outputs": [],
   "source": [
    "# Nous calculons la somme des CA par tranche d'âge afin de l'afficher dans un diagramme\n",
    "ca_age_clients = full_data.groupby([\"tranche_age\"])[\"price\"].sum()\n",
    "print(ca_age_clients)\n",
    "\n",
    "plt.figure(figsize=(10,6))\n",
    "fig2, ax2 = plt.subplots()\n",
    "colors = ['lightcoral','tan','chocolate','firebrick']\n",
    "ax2.pie(ca_age_clients, labels=[\"Jeunes (18-30ans)\",\"Adultes (30-40ans)\",\"Matures (40-50ans)\",\"Seniors (+50ans)\"], autopct=\"%1.1f%%\",colors=colors, wedgeprops=dict(width=0.2), startangle=0)\n",
    "plt.title(\"Proportion du chiffre d'affaires selon l'âge des clients\")\n",
    "plt.savefig('proportion_ca_tranche.png', dpi=300, bbox_inches='tight')\n",
    "plt.show()"
   ]
  },
  {
   "attachments": {},
   "cell_type": "markdown",
   "metadata": {},
   "source": [
    "Les seniors ne représentent que 10.9% de notre population mais réalisent 27% du chiffre d'affaires total devant tous les autres groupes."
   ]
  },
  {
   "attachments": {},
   "cell_type": "markdown",
   "metadata": {},
   "source": [
    "### <font color='skyblue'> 4) Les habitudes de consommation de nos clients </font>"
   ]
  },
  {
   "cell_type": "code",
   "execution_count": null,
   "metadata": {},
   "outputs": [],
   "source": [
    "# Nous visualisons l'évolution du nombre de vente\n",
    "plt.figure(figsize=(10,6))\n",
    "sns.histplot(data=data_part, x='date', hue='categ', multiple='stack', palette=[\"lightcoral\", \"chocolate\", \"firebrick\"], binwidth=10)\n",
    "plt.xticks(rotation=45)\n",
    "plt.ylabel(\"Nombre de ventes\")\n",
    "plt.xlabel(\"Date\")\n",
    "plt.title('Evolution du nombre de ventes par catégorie')\n",
    "plt.savefig('evolution_vente_categorie.png', dpi=300, bbox_inches='tight')\n",
    "plt.show()"
   ]
  },
  {
   "cell_type": "code",
   "execution_count": null,
   "metadata": {},
   "outputs": [],
   "source": [
    "# Puis le même graphique éclaté par catégorie\n",
    "for i in sorted(data_part['categ'].unique()):\n",
    "    print('Catégorie', i)\n",
    "    plt.figure(figsize=(10,6))\n",
    "    sns.histplot(data=data_part[data_part['categ']==i], x='date', color= \"firebrick\", binwidth=10)\n",
    "    plt.xticks(rotation=45)\n",
    "    plt.ylabel(\"Nombre de ventes\")\n",
    "    plt.xlabel(\"Date\")\n",
    "    plt.title('Evolution du nombre de ventes')\n",
    "    plt.savefig('evolution_vente_categ.png', dpi=300, bbox_inches='tight')\n",
    "    plt.show()\n"
   ]
  },
  {
   "attachments": {},
   "cell_type": "markdown",
   "metadata": {},
   "source": [
    "Nous discernons une saisonnalité assez claire dans les ventes, en effet, à l'approche de la rentrée scolaire en septembre, les ventes de la catégorie 0 connaissent un pique de croissance. Ensuite on distingue une augmentation du nombre de ventes des produits de la catégorie 1 en novembre et décembre ce qui coincide avec les fêtes de fin d'année. Enfin les produits de catégorie 2 ont tendance à se vendre plus en juillet / aout mais aussi en fevrier / mars, ce qui pourrait correspondre au début des semestre universitaires éventuellement."
   ]
  },
  {
   "attachments": {},
   "cell_type": "markdown",
   "metadata": {},
   "source": [
    "# <a name=\"C4\"> E) Analyse multivariée </a>\n",
    "***"
   ]
  },
  {
   "attachments": {},
   "cell_type": "markdown",
   "metadata": {},
   "source": [
    "### <font color='skyblue'> 1) Corrélation entre le sexe des clients et la gamme de produits achetée </font>\n"
   ]
  },
  {
   "cell_type": "code",
   "execution_count": null,
   "metadata": {},
   "outputs": [],
   "source": [
    "# Nous comptons la fréquence de ventes par sexe et par catégorie pour avoir un ordre d'idée\n",
    "\n",
    "plt.figure(figsize=(10,6))\n",
    "sns.displot(data=data_part, x='sex', hue='categ',palette=[\"lightcoral\", \"chocolate\", \"firebrick\"], binwidth=10)\n",
    "plt.ylabel(\"Nombre de ventes\")\n",
    "plt.xlabel(\"Femmes                   Hommes\")\n",
    "plt.title('Fréquence des ventes par sexe par catégorie')\n",
    "plt.savefig('frequence_vente_sexe.png', dpi=300, bbox_inches='tight')\n",
    "plt.show()"
   ]
  },
  {
   "attachments": {},
   "cell_type": "markdown",
   "metadata": {},
   "source": [
    "#### Test de Chi-2"
   ]
  },
  {
   "attachments": {},
   "cell_type": "markdown",
   "metadata": {},
   "source": [
    "Les données entre les sexes ont des tendances proches, le sexe des clients influe t-il sur leurs habitudes de consommation ? Ayant 2 variables qualitatives, nous allons réaliser un test de Chi2 en proposant 2 théories possibles. Nous déterminons un seuil que l'on nommera alpha et qu'on fixera à 5. Si alpha < 5 alors nous validerons H0. Si alpha > 5 alors nous validerons H1. Le test de normalité ne fait pas partie des conditions du khi-deux, vu qu'on ne mesure pas la normalité que sur des variables quantitatives.\n",
    "- La théorie H0 indiquerait que la catégorie de produits acheté ne dépend pas du sexe des clients, \n",
    "- et la théorie H1 qui indiquerait que la catégorie de produit acheté dépend du sexe des clients. "
   ]
  },
  {
   "cell_type": "code",
   "execution_count": null,
   "metadata": {},
   "outputs": [],
   "source": [
    "# Nous produisons une table pivot entre sexe et catégorie\n",
    "data_sex_categ = pd.pivot_table(data_part,index=['sex'],columns=['categ'],aggfunc='size')\n",
    "print(data_sex_categ)\n",
    "\n",
    "# Affichons une heatmap\n",
    "plt.figure(figsize=(10,6))\n",
    "sns.heatmap(data_sex_categ,annot=True, fmt='g',square=True,cmap='Reds')\n",
    "plt.ylabel(\"Sexe\")\n",
    "plt.xlabel(\"Catégorie\")\n",
    "plt.title('Correlation entre sexe et catégorie')\n",
    "plt.savefig('heatmap_sexe_categorie.png', dpi=300, bbox_inches='tight')\n",
    "plt.show()"
   ]
  },
  {
   "cell_type": "code",
   "execution_count": null,
   "metadata": {},
   "outputs": [],
   "source": [
    "# Nous réalisons le Chi2\n",
    "chi2_stat, p_val, dof, ex = stats.chi2_contingency(data_sex_categ)\n",
    "\n",
    "print(\"Chi square value is \",chi2_stat)\n",
    "print(\"P value is\",p_val)\n",
    "print(\"Degrees of Freedom:\",dof)\n",
    "\n",
    "if p_val > .05:\n",
    "    print('H0: Les 2 variables sont indépendantes')\n",
    "else:\n",
    "    print('H1: Il y a une dépendance entre les 2 variables')"
   ]
  },
  {
   "attachments": {},
   "cell_type": "markdown",
   "metadata": {},
   "source": [
    "Le test de normalité ne fait pas partie des conditions du chi 2, on ne mesure pas la normalité sur des variables quantitatives. P-value étant < 0.05, on rejette l’hypothèse H0 en prenant un risque extrêmement faible de  nous tromper. Le sexe influe donc sur la gamme achetée par nos clients."
   ]
  },
  {
   "attachments": {},
   "cell_type": "markdown",
   "metadata": {},
   "source": [
    "### <font color='skyblue'> 2) Corrélation entre la tranche d'âge des clients et les gammes de produits achetée</font>\n"
   ]
  },
  {
   "cell_type": "code",
   "execution_count": null,
   "metadata": {},
   "outputs": [],
   "source": [
    "# Nous visualisons le nombre de ventes par age et par catégorie\n",
    "\n",
    "plt.figure(figsize=(10,6))\n",
    "sns.displot(data=data_part, x='age', hue='categ', kind='kde', palette=[\"lightcoral\",\"chocolate\",\"firebrick\"])\n",
    "plt.xticks(rotation=45)\n",
    "plt.xlabel(\"âge des clients\")\n",
    "plt.ylabel(\"Nombre de ventes\")\n",
    "plt.title('Nombre de ventes par âge et par catégorie')\n",
    "plt.savefig('ventes_categ_age.png', dpi=300, bbox_inches='tight')\n",
    "plt.show()"
   ]
  },
  {
   "attachments": {},
   "cell_type": "markdown",
   "metadata": {},
   "source": [
    "#### Test de Chi-2"
   ]
  },
  {
   "attachments": {},
   "cell_type": "markdown",
   "metadata": {},
   "source": [
    "La catégorie 0 est principalement consommée par les publics adultes et matures, tandis que la catégorie 2 est consommée exclusivement par les jeunes. voyons si nous pouvons le théoriser via un test chi-2.\n",
    "Si alpha < 5 alors nous validerons H0. Si alpha > 5 alors nous validerons H1. \n",
    "- La théorie H0 indiquerait que la catégorie de produits acheté ne dépend pas de l'âge des clients, \n",
    "- et la théorie H1 qui indiquerait que la catégorie de produit acheté dépend de l'âge des clients. "
   ]
  },
  {
   "cell_type": "code",
   "execution_count": null,
   "metadata": {},
   "outputs": [],
   "source": [
    "# Nous produisons une table pivot entre âge et catégorie\n",
    "data_age_categ = pd.pivot_table(data_part,index=['tranche_age'],columns=['categ'],aggfunc='size')\n",
    "print(data_age_categ)\n",
    "\n",
    "# Affichons une heatmap\n",
    "plt.figure(figsize=(10,6))\n",
    "sns.heatmap(data_age_categ,annot=True, fmt='g',square=True,cmap='Reds')\n",
    "plt.ylabel(\"âge\")\n",
    "plt.xlabel(\"Catégorie\")\n",
    "plt.title('Correlation entre tranches d\\'âge et catégorie')\n",
    "plt.savefig('heatmap_age_categorie.png', dpi=300, bbox_inches='tight')\n",
    "plt.show()"
   ]
  },
  {
   "cell_type": "code",
   "execution_count": null,
   "metadata": {},
   "outputs": [],
   "source": [
    "# Nous réalisons le Chi2\n",
    "chi2_stat2, p_val2, dof2, ex2 = stats.chi2_contingency(data_age_categ)\n",
    "\n",
    "print(\"Chi square value is \",chi2_stat2)\n",
    "print(\"P value is\",p_val2)\n",
    "print(\"Degrees of Freedom:\",dof2)\n",
    "\n",
    "if p_val2 > .05:\n",
    "    print('H0: Les 2 variables sont indépendantes')\n",
    "else:\n",
    "    print('H1: Il y a une dépendance entre les 2 variables')"
   ]
  },
  {
   "attachments": {},
   "cell_type": "markdown",
   "metadata": {},
   "source": [
    "Via le test de chi2 : p-value < 0.05 alors nous rejettons H0, il y a bien une dépendance entre la classe d'âge et la catégorie des produits achetés. "
   ]
  },
  {
   "attachments": {},
   "cell_type": "markdown",
   "metadata": {},
   "source": [
    "### <font color='skyblue'> 3) Corrélation entre l'âge et la gamme</font>"
   ]
  },
  {
   "cell_type": "code",
   "execution_count": null,
   "metadata": {},
   "outputs": [],
   "source": [
    "# Nous produisons une table pivot entre âge et catégorie\n",
    "data_age_categ_2 = pd.pivot_table(data_part,index=['age'],columns=['categ'],aggfunc='size')\n",
    "print(data_age_categ_2)"
   ]
  },
  {
   "attachments": {},
   "cell_type": "markdown",
   "metadata": {},
   "source": [
    "#### Test Anova et Kruskal Wallis"
   ]
  },
  {
   "cell_type": "code",
   "execution_count": null,
   "metadata": {},
   "outputs": [],
   "source": [
    "stats.f_oneway(data_part[\"age\"],data_part[\"categ\"])"
   ]
  },
  {
   "cell_type": "code",
   "execution_count": null,
   "metadata": {},
   "outputs": [],
   "source": [
    "stats.kruskal(data_part[\"age\"],data_part[\"categ\"])"
   ]
  },
  {
   "attachments": {},
   "cell_type": "markdown",
   "metadata": {},
   "source": [
    "Les 2 tests confirment une dépendance forte entre age et catégorie"
   ]
  },
  {
   "attachments": {},
   "cell_type": "markdown",
   "metadata": {},
   "source": [
    "### <font color='skyblue'> 4) Corrélation entre l'âge et le panier moyen</font>"
   ]
  },
  {
   "cell_type": "code",
   "execution_count": null,
   "metadata": {},
   "outputs": [],
   "source": [
    "# Nous visualisons les prix des produits consommés par les différentes tranches d'âge\n",
    "moyenne_par_age = data_part.groupby([\"tranche_age\"])[\"price\"].mean()\n",
    "print(moyenne_par_age)\n",
    "\n",
    "plt.figure(figsize=(10,6))\n",
    "sns.boxplot(data=data_part.sort_values(by='tranche_age'), y='tranche_age', x='price', showfliers=False,  palette=[\"lightcoral\", \"chocolate\", \"firebrick\",'tan'])\n",
    "plt.title('Distribution des prix des produits par tranche d\\'âge')\n",
    "plt.xlabel('prix')\n",
    "plt.ylabel('tranche age')\n",
    "plt.savefig('distri_tranche_prix.png', dpi=300, bbox_inches='tight')\n",
    "plt.show()\n",
    "\n",
    "panier_moyen=data_part[['age', 'price']].groupby(['age'], as_index=False).agg({'price':['count', 'sum']})\n",
    "panier_moyen.columns=['age', 'nb_achats', 'ca']\n",
    "panier_moyen['panier_moyen']=(panier_moyen['ca'])/(panier_moyen['nb_achats'])\n",
    "panier_moyen.head()"
   ]
  },
  {
   "attachments": {},
   "cell_type": "markdown",
   "metadata": {},
   "source": [
    "#### Test Shapiro et Pearson"
   ]
  },
  {
   "attachments": {},
   "cell_type": "markdown",
   "metadata": {},
   "source": [
    "Le panier moyen est bien plus élevé chez les plus jeunes avec 40.30€ d'achats par panier. Nous allons réaliser un test de normalité afin de nous assurer que la distribution de prix est normale, puis un test Anova pour mesurer la corrélation entre les variables."
   ]
  },
  {
   "cell_type": "code",
   "execution_count": null,
   "metadata": {},
   "outputs": [],
   "source": [
    "# Nous réalisons le test saphiro de normalité\n",
    "shapiro_age = stats.shapiro(panier_moyen[\"age\"])\n",
    "shapiro_age"
   ]
  },
  {
   "cell_type": "code",
   "execution_count": null,
   "metadata": {},
   "outputs": [],
   "source": [
    "# Nous réalisons le test saphiro de normalité\n",
    "shapiro_prix = stats.shapiro(panier_moyen[\"panier_moyen\"])\n",
    "shapiro_prix"
   ]
  },
  {
   "attachments": {},
   "cell_type": "markdown",
   "metadata": {},
   "source": [
    "pvalue > 0,5 nous confirmons la non normalité de notre distribution de prix, nous pouvons lancer le test Pearson."
   ]
  },
  {
   "cell_type": "code",
   "execution_count": null,
   "metadata": {},
   "outputs": [],
   "source": [
    "# Nous réalisons le test de corrélation linéaire de Spearman\n",
    "pearson_moy = stats.pearsonr(panier_moyen[\"panier_moyen\"], panier_moyen[\"age\"])[0]\n",
    "pearson_moy"
   ]
  },
  {
   "cell_type": "code",
   "execution_count": null,
   "metadata": {},
   "outputs": [],
   "source": [
    "# Nous réalisons le test de corrélation linéaire de spearman\n",
    "spearman_moy = stats.spearmanr(panier_moyen.age, panier_moyen.panier_moyen)[0]\n",
    "spearman_moy"
   ]
  },
  {
   "attachments": {},
   "cell_type": "markdown",
   "metadata": {},
   "source": [
    "Nous confirmons donc qu'une dépendance existe entre l'age et le panier moyen réalisé par nos clients."
   ]
  },
  {
   "attachments": {},
   "cell_type": "markdown",
   "metadata": {},
   "source": [
    "### <font color='skyblue'> 5) Corrélation entre l'âge des clients et la fréquence d'achat </font>\n"
   ]
  },
  {
   "cell_type": "code",
   "execution_count": null,
   "metadata": {},
   "outputs": [],
   "source": [
    "# Nous comptons le nombre d'achat mensuel à partir des sessions clients par mois\n",
    "frequence_achat = data_part.groupby('age').count().reset_index()\n",
    "frequence_achat = frequence_achat[['age', 'session_id']]\n",
    "frequence_achat['frequence'] = frequence_achat['session_id'] / sum(frequence_achat['session_id'])\n",
    "frequence_achat"
   ]
  },
  {
   "cell_type": "code",
   "execution_count": null,
   "metadata": {},
   "outputs": [],
   "source": [
    "# Nous visualisons ensuite cette fréquence d'achat\n",
    "plt.figure(figsize=(10,6))\n",
    "plt.plot(frequence_achat[frequence_achat.frequence < .05].age, frequence_achat[frequence_achat.frequence < .05].frequence, 'o', color='firebrick')\n",
    "plt.xlabel('âge des clients')\n",
    "plt.ylabel('Fréquence des achats')\n",
    "plt.title('Fréquence des achats en fonction de l\\'age des clients')\n",
    "plt.savefig('frequence_vente_age.png', dpi=300, bbox_inches='tight')\n",
    "plt.show()"
   ]
  },
  {
   "attachments": {},
   "cell_type": "markdown",
   "metadata": {},
   "source": [
    "#### Test Saphiro et Spearman"
   ]
  },
  {
   "attachments": {},
   "cell_type": "markdown",
   "metadata": {},
   "source": [
    "La fréquence d'achat est plus importante chez pour les individus entre 30 et 40 ans. Nous allons réaliser un test de normalité afin de nous assurer que la distribution de fréquence est normale, puis un test Spearman pour mesurer la corrélation entre les variables."
   ]
  },
  {
   "cell_type": "code",
   "execution_count": null,
   "metadata": {},
   "outputs": [],
   "source": [
    "# Nous réalisons le test saphiro de normalité\n",
    "shapiro_freq = stats.shapiro(frequence_achat[\"frequence\"])\n",
    "shapiro_freq"
   ]
  },
  {
   "attachments": {},
   "cell_type": "markdown",
   "metadata": {},
   "source": [
    "Nous confirmons la non-normalité de notre distribution de fréquences, nous pouvons lancer le test Spearman."
   ]
  },
  {
   "cell_type": "code",
   "execution_count": null,
   "metadata": {},
   "outputs": [],
   "source": [
    "# Nous réalisons le test de corrélation linéaire de Spearman\n",
    "pearson_freq = stats.spearmanr(frequence_achat.age, frequence_achat.frequence)[0]\n",
    "pearson_freq"
   ]
  },
  {
   "attachments": {},
   "cell_type": "markdown",
   "metadata": {},
   "source": [
    "Il existe une corrélation forte entre l'âge des clients et la fréquence d'achat, le test de Spearman à -0.67 confirme que plus un client est jeune, plus sa fréquence d'acahat est élevée."
   ]
  },
  {
   "attachments": {},
   "cell_type": "markdown",
   "metadata": {},
   "source": [
    "### <font color='skyblue'> 6) Corrélation entre l'âge des clients et le montant total des achats </font>\n"
   ]
  },
  {
   "cell_type": "code",
   "execution_count": null,
   "metadata": {},
   "outputs": [],
   "source": [
    "#Agrégation pour sommer les ventes 'price' (produits achetés) en fonction de l'âge des clients\n",
    "ca_par_age = data_part.groupby('age').sum().reset_index()\n",
    "ca_par_age = ca_par_age[['age', 'price']]\n",
    "ca_par_age['price'] = ca_par_age['price']\n",
    "ca_par_age.head() "
   ]
  },
  {
   "cell_type": "code",
   "execution_count": null,
   "metadata": {},
   "outputs": [],
   "source": [
    "# Nous affichons la distribution du CA selon l'age\n",
    "plt.figure(figsize=(10,6))\n",
    "plt.bar(ca_par_age.age, ca_par_age.price, color='firebrick')\n",
    "plt.xlabel('Age')\n",
    "plt.ylabel('Chiffre d\\'affaires')\n",
    "plt.title(\"Distribution du chiffre d'affaires selon l'âge\")\n",
    "plt.savefig('distribution_ca_age.png', dpi=300, bbox_inches='tight')\n",
    "plt.show()"
   ]
  },
  {
   "attachments": {},
   "cell_type": "markdown",
   "metadata": {},
   "source": [
    "#### Test Shapiro et Spearman"
   ]
  },
  {
   "attachments": {},
   "cell_type": "markdown",
   "metadata": {},
   "source": [
    "Nous remarquons une valeur aberrante pour les individus d'âge 19ans, elle peut s'expliquer par une offre ou un évenement spécial proposée aux clients de cet âge qui a attiré de nombreux clients, mais elle peut aussi s'expliquer par l'agglomération de tous les clients de 0 à 18 ans. Nous allons réaliser un test de normalité afin de nous assurer que la distribution de chiffre d'affaires est normale, puis un test Spearman pour mesurer la correlation entre les variables."
   ]
  },
  {
   "cell_type": "code",
   "execution_count": null,
   "metadata": {},
   "outputs": [],
   "source": [
    "# Nous réalisons le test saphiro de normalité\n",
    "shapiro_ca = stats.shapiro(ca_par_age[\"price\"])\n",
    "shapiro_ca"
   ]
  },
  {
   "attachments": {},
   "cell_type": "markdown",
   "metadata": {},
   "source": [
    "pvalue < 0,5 nous confirmons la non-normalité de notre distribution de CA, nous pouvons lancer le test Spearman."
   ]
  },
  {
   "cell_type": "code",
   "execution_count": null,
   "metadata": {},
   "outputs": [],
   "source": [
    "# Nous réalisons le test de corrélation linéaire de spearman\n",
    "pearson_ca = stats.spearmanr(ca_par_age.age, ca_par_age.price)[0]\n",
    "pearson_ca"
   ]
  },
  {
   "attachments": {},
   "cell_type": "markdown",
   "metadata": {},
   "source": [
    "Il existe une corrélation très forte entre l'âge des clients et la le chiffre d'affaires total engendré par client, le test de Pearson à -0.87 confirme que plus un client est jeune, plus le total d'achats est élevée."
   ]
  },
  {
   "attachments": {},
   "cell_type": "markdown",
   "metadata": {},
   "source": [
    "### <font color='skyblue'> 7) Corrélation entre le chiffre d'affaires et le sexe </font>\n"
   ]
  },
  {
   "cell_type": "code",
   "execution_count": null,
   "metadata": {},
   "outputs": [],
   "source": [
    "#Agrégation pour sommer les ventes 'price' (produits achetés) en fonction de l'âge des clients\n",
    "#Création d'une variable 'age_price'\n",
    "ca_par_sexe = data_part.groupby('sex').sum().reset_index()\n",
    "ca_par_sexe = ca_par_sexe[['sex', 'price']]\n",
    "ca_par_sexe['price'] = ca_par_sexe['price']\n",
    "print(ca_par_sexe.head())\n",
    "\n",
    "plt.figure(figsize=(10,6))\n",
    "fig2, ax2 = plt.subplots()\n",
    "colors = ['chocolate', 'firebrick']\n",
    "ax2.pie(ca_sexe_clients,labels=[\"Femmes\",\"Hommes\"],autopct=\"%1.1f%%\",colors=colors, wedgeprops=dict(width=0.2), startangle=40)\n",
    "plt.title(\"Proportion du chiffre d'affaires selon le sexe des clients\")\n",
    "plt.savefig('repartition_ca_sexe.png', dpi=300, bbox_inches='tight')\n",
    "plt.show()"
   ]
  },
  {
   "cell_type": "code",
   "execution_count": null,
   "metadata": {},
   "outputs": [],
   "source": [
    "# transormation de f et m en 0 et 1\n",
    "data_sexe = data_part\n",
    "data_sexe = data_sexe.replace([\"f\",\"m\"], [\"0\",\"1\"])\n",
    "data_sexe['sex'] = data_sexe['sex'].astype(int)"
   ]
  },
  {
   "attachments": {},
   "cell_type": "markdown",
   "metadata": {},
   "source": [
    "#### Test Anova et Kruskal Wallis"
   ]
  },
  {
   "cell_type": "code",
   "execution_count": null,
   "metadata": {},
   "outputs": [],
   "source": [
    "stats.f_oneway(data_sexe[\"sex\"],data_sexe[\"price\"])"
   ]
  },
  {
   "cell_type": "code",
   "execution_count": null,
   "metadata": {},
   "outputs": [],
   "source": [
    "stats.kruskal(data_sexe[\"sex\"],data_sexe[\"price\"])"
   ]
  },
  {
   "attachments": {},
   "cell_type": "markdown",
   "metadata": {},
   "source": [
    "# <a name=\"C4\"> F) Conclusion synthétique </a>\n",
    "***"
   ]
  },
  {
   "attachments": {},
   "cell_type": "markdown",
   "metadata": {},
   "source": [
    "Une première approche unidimensionnelle de nos données nous a permis d'abord de fournir une analyse descriptive claire de nos produits ainsi que de nos clients, puis nous a permis de faire une analyse complète de notre chiffre d'affaires sous plusieurs prismes. Nous avons pu mettre en lumière des inégalité importantes dans la réalisation de notre chiffre d'affaires, que ce soient des inégalités entre les produits ou entre les clients. \n",
    "La deuxième approche multivariée nous a permis de mettre en opposition nos variables démographiques telles que l'âge ou le sexe de nos clients à nos variables business, afin de mettre en exergue des corrélations éventuelles. Nous avons ainsi mis en lumière des corrélations plus ou moins importantes entre le sexe et l'âge de nos clients avec leurs rapports à nos gammes de produits. Enfin pour terminer notre analyse, nous avons aussi mis en évidence la corrélation entre l'âge de nos clients et leurs habitudes de consommation, ces dernières données seront particulièrement pertinentes afin de mettre en place des stratégies ciblées pour compbler nos lacunes ou à l'inverse exacerber nos points forts."
   ]
  }
 ],
 "metadata": {
  "kernelspec": {
   "display_name": "base",
   "language": "python",
   "name": "python3"
  },
  "language_info": {
   "codemirror_mode": {
    "name": "ipython",
    "version": 3
   },
   "file_extension": ".py",
   "mimetype": "text/x-python",
   "name": "python",
   "nbconvert_exporter": "python",
   "pygments_lexer": "ipython3",
   "version": "3.10.9"
  },
  "orig_nbformat": 4
 },
 "nbformat": 4,
 "nbformat_minor": 2
}
